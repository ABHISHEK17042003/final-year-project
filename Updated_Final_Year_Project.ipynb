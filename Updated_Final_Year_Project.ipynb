{
  "cells": [
    {
      "cell_type": "markdown",
      "metadata": {
        "id": "view-in-github",
        "colab_type": "text"
      },
      "source": [
        "<a href=\"https://colab.research.google.com/github/ABHISHEK17042003/final-year-project/blob/main/Updated_Final_Year_Project.ipynb\" target=\"_parent\"><img src=\"https://colab.research.google.com/assets/colab-badge.svg\" alt=\"Open In Colab\"/></a>"
      ]
    },
    {
      "cell_type": "markdown",
      "metadata": {
        "id": "rMwlpoNYcNG7"
      },
      "source": [
        "list Show the current location in the file\n",
        "h(elp) Show a list of commands, or find help on a specific command\n",
        "q(uit) Quit the debugger and the program\n",
        "c(ontinue) Quit the debugger, continue in the program\n",
        "n(ext) Go to the next step of the program\n",
        "Repeat the previous command\n",
        "p(rint) Print variables\n",
        "s(tep) Step into a subroutine\n",
        "r(eturn) Return out of a subroutine"
      ]
    },
    {
      "cell_type": "markdown",
      "metadata": {
        "id": "rO57Vb8j9hRJ"
      },
      "source": [
        "#*****Code To Download The Dataset From Kaggel*****\n"
      ]
    },
    {
      "cell_type": "code",
      "execution_count": null,
      "metadata": {
        "id": "PyOSUtfn7SiP"
      },
      "outputs": [],
      "source": [
        "\n",
        "# IMPORTANT: RUN THIS CELL IN ORDER TO IMPORT YOUR KAGGLE DATA SOURCES\n",
        "# TO THE CORRECT LOCATION (/kaggle/input) IN YOUR NOTEBOOK,\n",
        "# THEN FEEL FREE TO DELETE THIS CELL.\n",
        "# NOTE: THIS NOTEBOOK ENVIRONMENT DIFFERS FROM KAGGLE'S PYTHON\n",
        "# ENVIRONMENT SO THERE MAY BE MISSING LIBRARIES USED BY YOUR\n",
        "# NOTEBOOK.\n",
        "\n",
        "import os\n",
        "import sys\n",
        "from tempfile import NamedTemporaryFile\n",
        "from urllib.request import urlopen\n",
        "from urllib.parse import unquote, urlparse\n",
        "from urllib.error import HTTPError\n",
        "from zipfile import ZipFile\n",
        "import tarfile\n",
        "import shutil\n",
        "\n",
        "CHUNK_SIZE = 40960\n",
        "DATA_SOURCE_MAPPING = 'emg-signal-for-gesture-recognition:https%3A%2F%2Fstorage.googleapis.com%2Fkaggle-data-sets%2F756231%2F1306261%2Fbundle%2Farchive.zip%3FX-Goog-Algorithm%3DGOOG4-RSA-SHA256%26X-Goog-Credential%3Dgcp-kaggle-com%2540kaggle-161607.iam.gserviceaccount.com%252F20240312%252Fauto%252Fstorage%252Fgoog4_request%26X-Goog-Date%3D20240312T165802Z%26X-Goog-Expires%3D259200%26X-Goog-SignedHeaders%3Dhost%26X-Goog-Signature%3D7d7c215e91a64ad0cc324c012a796bfe22be0f2bacae07fd1cadde99528b6535531c300dd8c54a9034b14429e2ea24629619b5c8244a64191b41e019c4bb3e44fefa000b5cc0f63c09f5d78d6bad91614264aeb3fb3b1a5206c2d65727715f8a62cb0f86ae704834d61c4f3c0a156d9e37e3dccc986929e6931b48be2c54ca4b2a5105dc596585f1824c9e09a14a63765ac7fbfe643211682760a6a3fb82e450bde68ed5e057d1c28b36e9c50e4ea39f9ec303266007d9fbe34c8a695dd6e2954a93141e224dda5355bc4e67315cc99dba0114f65e081b16e0dfef1522372865f3f0092ca04300db28b7d0d1f0bd097fac72bf3e0a90d09c28210f9788fba404'\n",
        "\n",
        "KAGGLE_INPUT_PATH='/kaggle/input'\n",
        "KAGGLE_WORKING_PATH='/kaggle/working'\n",
        "KAGGLE_SYMLINK='kaggle'\n",
        "\n",
        "!umount /kaggle/input/ 2> /dev/null\n",
        "shutil.rmtree('/kaggle/input', ignore_errors=True)\n",
        "os.makedirs(KAGGLE_INPUT_PATH, 0o777, exist_ok=True)\n",
        "os.makedirs(KAGGLE_WORKING_PATH, 0o777, exist_ok=True)\n",
        "\n",
        "try:\n",
        "  os.symlink(KAGGLE_INPUT_PATH, os.path.join(\"..\", 'input'), target_is_directory=True)\n",
        "except FileExistsError:\n",
        "  pass\n",
        "try:\n",
        "  os.symlink(KAGGLE_WORKING_PATH, os.path.join(\"..\", 'working'), target_is_directory=True)\n",
        "except FileExistsError:\n",
        "  pass\n",
        "\n",
        "for data_source_mapping in DATA_SOURCE_MAPPING.split(','):\n",
        "    directory, download_url_encoded = data_source_mapping.split(':')\n",
        "    download_url = unquote(download_url_encoded)\n",
        "    filename = urlparse(download_url).path\n",
        "    destination_path = os.path.join(KAGGLE_INPUT_PATH, directory)\n",
        "    try:\n",
        "        with urlopen(download_url) as fileres, NamedTemporaryFile() as tfile:\n",
        "            total_length = fileres.headers['content-length']\n",
        "            print(f'Downloading {directory}, {total_length} bytes compressed')\n",
        "            dl = 0\n",
        "            data = fileres.read(CHUNK_SIZE)\n",
        "            while len(data) > 0:\n",
        "                dl += len(data)\n",
        "                tfile.write(data)\n",
        "                done = int(50 * dl / int(total_length))\n",
        "                sys.stdout.write(f\"\\r[{'=' * done}{' ' * (50-done)}] {dl} bytes downloaded\")\n",
        "                sys.stdout.flush()\n",
        "                data = fileres.read(CHUNK_SIZE)\n",
        "            if filename.endswith('.zip'):\n",
        "              with ZipFile(tfile) as zfile:\n",
        "                zfile.extractall(destination_path)\n",
        "            else:\n",
        "              with tarfile.open(tfile.name) as tarfile:\n",
        "                tarfile.extractall(destination_path)\n",
        "            print(f'\\nDownloaded and uncompressed: {directory}')\n",
        "    except HTTPError as e:\n",
        "        print(f'Failed to load (likely expired) {download_url} to path {destination_path}')\n",
        "        continue\n",
        "    except OSError as e:\n",
        "        print(f'Failed to load {download_url} to path {destination_path}')\n",
        "        continue\n",
        "\n",
        "print('Data source import complete.')\n"
      ]
    },
    {
      "cell_type": "markdown",
      "metadata": {
        "id": "99C7kGMN-_TN"
      },
      "source": [
        "#***Necessary libraries***"
      ]
    },
    {
      "cell_type": "code",
      "execution_count": null,
      "metadata": {
        "id": "wVqsEaqzmb_5"
      },
      "outputs": [],
      "source": [
        "import pandas as pd\n",
        "import random\n",
        "import csv\n",
        "import numpy as np\n",
        "import pdb"
      ]
    },
    {
      "cell_type": "markdown",
      "metadata": {
        "id": "HjWB9nVF_Kue"
      },
      "source": [
        "#**Reading EMG Data from CSV**"
      ]
    },
    {
      "cell_type": "code",
      "execution_count": null,
      "metadata": {
        "id": "L2L281Ddmb_7"
      },
      "outputs": [],
      "source": [
        "project_dataset_dir = '/kaggle/input/emg-signal-for-gesture-recognition/EMG-data.csv'\n",
        "df = pd.read_csv(project_dataset_dir)        #the CSV file is loaded as 'df'"
      ]
    },
    {
      "cell_type": "code",
      "execution_count": null,
      "metadata": {
        "id": "S8mASUQemb_8"
      },
      "outputs": [],
      "source": [
        "df.info()  # Print information about the DataFrame"
      ]
    },
    {
      "cell_type": "code",
      "execution_count": null,
      "metadata": {
        "id": "QgKCcC63mb_-"
      },
      "outputs": [],
      "source": [
        "df.drop('time', inplace=True, axis=1) # Drop the 'time' column\n",
        "df.head()  # Print the rows of the DataFrame"
      ]
    },
    {
      "cell_type": "code",
      "execution_count": null,
      "metadata": {
        "id": "g_BPPyBWmb__"
      },
      "outputs": [],
      "source": [
        "df.info()  # Assuming the CSV file is loaded as 'df' in previous code\n",
        "len(df)  # Get information about the DataFrame and its length"
      ]
    },
    {
      "cell_type": "code",
      "execution_count": null,
      "metadata": {
        "id": "OOkKNN69mcAB"
      },
      "outputs": [],
      "source": [
        "df.isna().sum() # Count missing values in each column"
      ]
    },
    {
      "cell_type": "code",
      "execution_count": null,
      "metadata": {
        "id": "rk0ffqdPmcAC"
      },
      "outputs": [],
      "source": [
        "print(df['class'].value_counts())  # Print the counts of unique values in the 'class' column\n",
        "print(f\"Total data Values: {len(df)}\")"
      ]
    },
    {
      "cell_type": "code",
      "execution_count": null,
      "metadata": {
        "id": "_PRzuvjamcAE"
      },
      "outputs": [],
      "source": [
        "df.drop(df[df['class'] == 0].index, inplace=True)   # Remove Rows with Class 0 (In-Place)"
      ]
    },
    {
      "cell_type": "code",
      "execution_count": null,
      "metadata": {
        "id": "tlhMdNk9mcAF"
      },
      "outputs": [],
      "source": [
        "df.head()   # Display the first few rows of the DataFrame"
      ]
    },
    {
      "cell_type": "code",
      "execution_count": null,
      "metadata": {
        "id": "r369CQoNmcAH"
      },
      "outputs": [],
      "source": [
        "all_labels_present = df.groupby('class')['label'].nunique() == 36    # use \" unquniq() == 36 \" to check if all class have 36 unique label\n",
        "all_labels_present     # Unique labels per class (36 check)"
      ]
    },
    {
      "cell_type": "markdown",
      "metadata": {
        "id": "_D4mEOdVSlkF"
      },
      "source": [
        "#**Check How Label in Class 7**"
      ]
    },
    {
      "cell_type": "code",
      "execution_count": null,
      "metadata": {
        "id": "rjj12ueGmcAH"
      },
      "outputs": [],
      "source": [
        "# check how many label in class = 7\n",
        "class_7_data = df[df['class'] == 7]\n",
        "class_7_label_counts = class_7_data.groupby('label').size().reset_index(name='count')\n",
        "class_7_label_counts"
      ]
    },
    {
      "cell_type": "code",
      "execution_count": null,
      "metadata": {
        "id": "6CWGH6xsmcAI"
      },
      "outputs": [],
      "source": [
        "data = df[df['class'] != 7]  # Exclude class-7 data"
      ]
    },
    {
      "cell_type": "code",
      "execution_count": null,
      "metadata": {
        "id": "L-EE9Y1DmcAJ"
      },
      "outputs": [],
      "source": [
        "data['class'].value_counts() # Remove rows with class-7, class - 0"
      ]
    },
    {
      "cell_type": "code",
      "execution_count": null,
      "metadata": {
        "id": "i8cMynO8mcAJ"
      },
      "outputs": [],
      "source": [
        "subjects_data = data.groupby(['label','class'])   # Categorize data by label and class"
      ]
    },
    {
      "cell_type": "code",
      "execution_count": null,
      "metadata": {
        "id": "1TkAS84smcAK"
      },
      "outputs": [],
      "source": [
        "# Assuming you have loaded your dataset into a DataFrame named df\n",
        "class_counts = data.groupby('class').size().reset_index(name='count')\n",
        "\n",
        "print('Class distribution:')\n",
        "print(class_counts)"
      ]
    },
    {
      "cell_type": "code",
      "execution_count": null,
      "metadata": {
        "id": "tajt_JbxmcAK"
      },
      "outputs": [],
      "source": [
        "data     # print the data form 1 to 36 labels with 6 classes"
      ]
    },
    {
      "cell_type": "code",
      "execution_count": null,
      "metadata": {
        "id": "lp2u_zkhYEcQ"
      },
      "outputs": [],
      "source": [
        "from matplotlib import pyplot as plt\n",
        "data['channel1'].plot(kind='line', figsize=(8, 4), title='channel1')\n",
        "plt.gca().spines[['top', 'right']].set_visible(False)"
      ]
    },
    {
      "cell_type": "code",
      "execution_count": null,
      "metadata": {
        "id": "u6_5l717YcY8"
      },
      "outputs": [],
      "source": [
        "from matplotlib import pyplot as plt\n",
        "data['channel2'].plot(kind='line', figsize=(8, 4), title='channel2')\n",
        "plt.gca().spines[['top', 'right']].set_visible(False)"
      ]
    },
    {
      "cell_type": "code",
      "execution_count": null,
      "metadata": {
        "id": "UI7K9jtPmcAL"
      },
      "outputs": [],
      "source": [
        "data.drop('label', inplace=True, axis=1)    #Delete 'label' column from DataFrame"
      ]
    },
    {
      "cell_type": "code",
      "execution_count": null,
      "metadata": {
        "id": "tXCiJHfgmcAM"
      },
      "outputs": [],
      "source": [
        "data.info()"
      ]
    },
    {
      "cell_type": "markdown",
      "metadata": {
        "id": "o5okNG8jmcAM"
      },
      "source": [
        "# ***NORMALIZE PROCESS***"
      ]
    },
    {
      "cell_type": "code",
      "execution_count": null,
      "metadata": {
        "id": "9QvyskxtmcAQ"
      },
      "outputs": [],
      "source": [
        "pdb.set_trace()    # debuggere trace\n",
        "def normalized(data):\n",
        "    min_value = np.min(data)\n",
        "    max_value = np.max(data)\n",
        "    normalized_data = (data - min_value) / (max_value - min_value)    # formula to normalize the data\n",
        "    return normalized_data"
      ]
    },
    {
      "cell_type": "markdown",
      "metadata": {
        "id": "qYlYr6fNcJhP"
      },
      "source": []
    },
    {
      "cell_type": "markdown",
      "metadata": {
        "id": "fdvJIxr6eIVT"
      },
      "source": [
        "# ***THE SLIDING WINDOW - CNN1***"
      ]
    },
    {
      "cell_type": "code",
      "execution_count": null,
      "metadata": {
        "id": "gQDqrFF1eIVU"
      },
      "outputs": [],
      "source": [
        "def sliding_window(data, window_size, stride):\n",
        "    windowed_data = []  # Initialize an empty list to store windowed data\n",
        "    labels = []  # Initialize an empty list to store corresponding labels\n",
        "\n",
        "    # Iterate through the data with a sliding window of specified size and stride\n",
        "    for i in range(0, len(data) - window_size + 1, stride):\n",
        "        # Extract a window of data excluding the last column (label column) and convert it to a NumPy array\n",
        "        windowed = data.iloc[i:i+window_size, :-1].values\n",
        "\n",
        "        # Extract the label from the last column of the current window\n",
        "        label = data.iloc[i+window_size-1, -1]\n",
        "\n",
        "        # Append the windowed data and its corresponding label to their respective lists\n",
        "        windowed_data.append(windowed)\n",
        "        labels.append(label)\n",
        "\n",
        "    # Convert the lists of windowed data and labels into NumPy arrays and return them\n",
        "    return np.array(windowed_data), np.array(labels)\n"
      ]
    },
    {
      "cell_type": "code",
      "execution_count": null,
      "metadata": {
        "id": "3ijZSCEkeIVU"
      },
      "outputs": [],
      "source": [
        "pdb.set_trace()    # debuggere trace\n",
        "window_size=150\n",
        "stride=30\n",
        "X, Y = sliding_window(data, 150, 30)"
      ]
    },
    {
      "cell_type": "code",
      "execution_count": null,
      "metadata": {
        "id": "v3SbjAe5eIVV"
      },
      "outputs": [],
      "source": [
        "pdb.set_trace()    # debuggere trace\n",
        "X = normalized(X)"
      ]
    },
    {
      "cell_type": "code",
      "execution_count": null,
      "metadata": {
        "id": "5CYyfmGJeIVY"
      },
      "outputs": [],
      "source": [
        "pdb.set_trace()    # debuggere trace\n",
        "Y = Y - 1"
      ]
    },
    {
      "cell_type": "code",
      "execution_count": null,
      "metadata": {
        "id": "wqZXoIhFeIVY"
      },
      "outputs": [],
      "source": [
        "# Import the train_test_split function from the sklearn.model_selection module\n",
        "from sklearn.model_selection import train_test_split\n",
        "pdb.set_trace()    # debuggere trace\n",
        "# Split the data into training and testing sets, with 80% for training and 20% for testing\n",
        "# X and Y are assumed to be the feature matrix and target vector, respectively\n",
        "# random_state is set to 42 for reproducibility\n",
        "X_train, X_test, y_train, y_test = train_test_split(X, Y, test_size=0.2, random_state=42)\n"
      ]
    },
    {
      "cell_type": "code",
      "execution_count": null,
      "metadata": {
        "id": "gFewJyPeeIVY"
      },
      "outputs": [],
      "source": [
        "# Import necessary modules from TensorFlow\n",
        "from tensorflow.keras.models import Sequential\n",
        "from tensorflow.keras.layers import Conv1D, MaxPooling1D, Flatten, Dense\n",
        "\n",
        "def CNN_model(input_shape, num_classes):\n",
        "    model = Sequential()  # Create a Sequential model\n",
        "\n",
        "    # Convolutional layers\n",
        "    model.add(Conv1D(32, kernel_size=3, activation='relu', input_shape=input_shape))  # Add a 1D convolutional layer with 32 filters\n",
        "    model.add(MaxPooling1D(pool_size=2))  # Add a max pooling layer\n",
        "\n",
        "    model.add(Conv1D(64, kernel_size=3, activation='relu'))  # Add another 1D convolutional layer with 64 filters\n",
        "    model.add(MaxPooling1D(pool_size=2))  # Add another max pooling layer\n",
        "\n",
        "    # Flattening layer\n",
        "    model.add(Flatten())  # Flatten the output of the convolutional layers\n",
        "\n",
        "    # Fully connected layers\n",
        "    model.add(Dense(128, activation='relu'))  # Add a fully connected layer with 128 neurons and ReLU activation\n",
        "    model.add(Dense(num_classes, activation='softmax'))  # Add the output layer with softmax activation\n",
        "\n",
        "    # Compile the model\n",
        "    model.compile(optimizer='adam', loss='sparse_categorical_crossentropy', metrics=['accuracy'])  # Compile the model with Adam optimizer, sparse categorical crossentropy loss, and accuracy metric\n",
        "    model.summary()  # Print model summary\n",
        "    return model  # Return the compiled model\n"
      ]
    },
    {
      "cell_type": "code",
      "execution_count": null,
      "metadata": {
        "id": "9HjUYqxdeIVZ"
      },
      "outputs": [],
      "source": [
        "# Define the CNN model\n",
        "pdb.set_trace()    # debuggere trace\n",
        "input_shape = X_train.shape[1:]  # Set the input shape based on the features in the training data\n",
        "num_classes = len(np.unique(Y))   # Determine the number of classes based on the unique values in the target vector\n",
        "\n",
        "# Create the CNN model using the defined input shape and number of classes\n",
        "model = CNN_model(input_shape, num_classes)\n"
      ]
    },
    {
      "cell_type": "code",
      "execution_count": null,
      "metadata": {
        "id": "KHflHUEUeIVZ"
      },
      "outputs": [],
      "source": [
        "history = model.fit(X_train, y_train, epochs=10, validation_data=(X_test, y_test))"
      ]
    },
    {
      "cell_type": "code",
      "execution_count": 35,
      "metadata": {
        "id": "Bf_GRyedeIVZ",
        "colab": {
          "base_uri": "https://localhost:8080/",
          "height": 0
        },
        "outputId": "bc12d61f-a20a-4e50-bd5e-c982fe1a65ac"
      },
      "outputs": [
        {
          "output_type": "stream",
          "name": "stdout",
          "text": [
            "--Return--\n",
            "None\n",
            "> \u001b[0;32m<ipython-input-35-d7629916485d>\u001b[0m(2)\u001b[0;36m<cell line: 2>\u001b[0;34m()\u001b[0m\n",
            "\u001b[0;32m      1 \u001b[0;31m\u001b[0;32mfrom\u001b[0m \u001b[0msklearn\u001b[0m\u001b[0;34m.\u001b[0m\u001b[0mmetrics\u001b[0m \u001b[0;32mimport\u001b[0m \u001b[0maccuracy_score\u001b[0m\u001b[0;34m,\u001b[0m \u001b[0mf1_score\u001b[0m\u001b[0;34m\u001b[0m\u001b[0;34m\u001b[0m\u001b[0m\n",
            "\u001b[0m\u001b[0;32m----> 2 \u001b[0;31m\u001b[0mpdb\u001b[0m\u001b[0;34m.\u001b[0m\u001b[0mset_trace\u001b[0m\u001b[0;34m(\u001b[0m\u001b[0;34m)\u001b[0m    \u001b[0;31m# debuggere trace\u001b[0m\u001b[0;34m\u001b[0m\u001b[0;34m\u001b[0m\u001b[0m\n",
            "\u001b[0m\u001b[0;32m      3 \u001b[0;31m\u001b[0;31m# make predictions on training data\u001b[0m\u001b[0;34m\u001b[0m\u001b[0;34m\u001b[0m\u001b[0m\n",
            "\u001b[0m\u001b[0;32m      4 \u001b[0;31m\u001b[0my_pred_train\u001b[0m \u001b[0;34m=\u001b[0m \u001b[0mmodel\u001b[0m\u001b[0;34m.\u001b[0m\u001b[0mpredict\u001b[0m\u001b[0;34m(\u001b[0m\u001b[0mX_train\u001b[0m\u001b[0;34m)\u001b[0m\u001b[0;34m\u001b[0m\u001b[0;34m\u001b[0m\u001b[0m\n",
            "\u001b[0m\u001b[0;32m      5 \u001b[0;31m\u001b[0my_pred_train\u001b[0m \u001b[0;34m=\u001b[0m \u001b[0mnp\u001b[0m\u001b[0;34m.\u001b[0m\u001b[0margmax\u001b[0m\u001b[0;34m(\u001b[0m\u001b[0my_pred_train\u001b[0m\u001b[0;34m,\u001b[0m \u001b[0maxis\u001b[0m\u001b[0;34m=\u001b[0m\u001b[0;36m1\u001b[0m\u001b[0;34m)\u001b[0m  \u001b[0;31m# One-hot encoding'den etiketlere dönüştür\u001b[0m\u001b[0;34m\u001b[0m\u001b[0;34m\u001b[0m\u001b[0m\n",
            "\u001b[0m\n",
            "ipdb> model.predict(X_train)\n",
            "1250/1250 [==============================] - 8s 7ms/step\n",
            "array([[1.6768845e-10, 1.1590801e-11, 2.7087921e-07, 9.2667252e-01,\n",
            "        1.5915066e-04, 7.3168062e-02],\n",
            "       [2.8121291e-05, 7.7156238e-02, 8.2221615e-01, 9.0436921e-02,\n",
            "        1.0984566e-03, 9.0642339e-03],\n",
            "       [2.7214407e-03, 9.5458972e-01, 9.9869221e-03, 9.0640700e-05,\n",
            "        9.2817663e-06, 3.2601811e-02],\n",
            "       ...,\n",
            "       [1.5793080e-04, 3.0448806e-01, 4.4397205e-01, 1.1540340e-04,\n",
            "        1.3866855e-08, 2.5126657e-01],\n",
            "       [1.2414306e-03, 5.4343487e-04, 9.8366803e-01, 4.1367309e-04,\n",
            "        3.5668537e-03, 1.0566506e-02],\n",
            "       [7.0170258e-06, 8.8254160e-01, 1.3388347e-02, 2.7035624e-03,\n",
            "        3.6500428e-02, 6.4858958e-02]], dtype=float32)\n",
            "ipdb> c\n",
            "1250/1250 [==============================] - 7s 6ms/step\n",
            "313/313 [==============================] - 1s 4ms/step\n",
            "Training Accuracy: 0.8097120412298917\n",
            "Test Accuracy: 0.7564295006504553\n",
            "Training F1 Score: 0.8132907620637886\n",
            "Test F1 Score: 0.7613910255839063\n"
          ]
        }
      ],
      "source": [
        "from sklearn.metrics import accuracy_score, f1_score\n",
        "pdb.set_trace()    # debuggere trace\n",
        "# make predictions on training data\n",
        "y_pred_train = model.predict(X_train)\n",
        "y_pred_train = np.argmax(y_pred_train, axis=1)  # One-hot encoding'den etiketlere dönüştür\n",
        "\n",
        "# make predictions on test data\n",
        "y_pred_test = model.predict(X_test)\n",
        "y_pred_test = np.argmax(y_pred_test, axis=1)  # One-hot encoding'den etiketlere dönüştür\n",
        "\n",
        "# calculate accuracy\n",
        "accuracy_training = accuracy_score(y_train, y_pred_train)\n",
        "accuracy_test = accuracy_score(y_test, y_pred_test)\n",
        "\n",
        "# calculate F1 score\n",
        "f1_training = f1_score(y_train, y_pred_train, average='weighted')\n",
        "f1_test = f1_score(y_test, y_pred_test, average='weighted')\n",
        "\n",
        "print(\"Training Accuracy:\", accuracy_training)\n",
        "print(\"Test Accuracy:\", accuracy_test)\n",
        "print(\"Training F1 Score:\", f1_training)\n",
        "print(\"Test F1 Score:\", f1_test)"
      ]
    },
    {
      "cell_type": "code",
      "execution_count": 37,
      "metadata": {
        "id": "X9dDJoBQeIVZ",
        "colab": {
          "base_uri": "https://localhost:8080/",
          "height": 700
        },
        "outputId": "007b66b5-6a49-4bbb-b570-77413dee1173"
      },
      "outputs": [
        {
          "name": "stdout",
          "output_type": "stream",
          "text": [
            "--Return--\n",
            "None\n",
            "> \u001b[0;32m<ipython-input-37-a50294e0a297>\u001b[0m(4)\u001b[0;36m<cell line: 4>\u001b[0;34m()\u001b[0m\n",
            "\u001b[0;32m      2 \u001b[0;31m\u001b[0;32mimport\u001b[0m \u001b[0mpdb\u001b[0m  \u001b[0;31m# Import the Python debugger module\u001b[0m\u001b[0;34m\u001b[0m\u001b[0;34m\u001b[0m\u001b[0m\n",
            "\u001b[0m\u001b[0;32m      3 \u001b[0;31m\u001b[0;34m\u001b[0m\u001b[0m\n",
            "\u001b[0m\u001b[0;32m----> 4 \u001b[0;31m\u001b[0mpdb\u001b[0m\u001b[0;34m.\u001b[0m\u001b[0mset_trace\u001b[0m\u001b[0;34m(\u001b[0m\u001b[0;34m)\u001b[0m  \u001b[0;31m# Set a breakpoint for debugging\u001b[0m\u001b[0;34m\u001b[0m\u001b[0;34m\u001b[0m\u001b[0m\n",
            "\u001b[0m\u001b[0;32m      5 \u001b[0;31m\u001b[0;34m\u001b[0m\u001b[0m\n",
            "\u001b[0m\u001b[0;32m      6 \u001b[0;31m\u001b[0;31m# Plot training and testing loss graph\u001b[0m\u001b[0;34m\u001b[0m\u001b[0;34m\u001b[0m\u001b[0m\n",
            "\u001b[0m\n",
            "ipdb> history.history\n",
            "{'loss': [0.9954684972763062, 0.6517354249954224, 0.5684111714363098, 0.5211347937583923, 0.4639125466346741, 0.4461253881454468, 0.4084832966327667, 0.3833692669868469, 0.34448763728141785, 0.33205586671829224], 'accuracy': [0.6071151494979858, 0.7575992345809937, 0.7872207164764404, 0.8017062544822693, 0.8230466842651367, 0.8305020928382874, 0.8442120552062988, 0.8553951382637024, 0.867929220199585, 0.8737334609031677], 'val_loss': [0.8141815066337585, 0.8157908916473389, 0.5816624164581299, 0.5183817148208618, 0.5314114689826965, 0.480795681476593, 0.4738001227378845, 0.4731309115886688, 0.4539627432823181, 0.6597468852996826], 'val_accuracy': [0.6822776198387146, 0.706994891166687, 0.783048152923584, 0.8087661266326904, 0.796557605266571, 0.817572295665741, 0.8260782361030579, 0.8218753337860107, 0.8338837027549744, 0.7564294934272766]}\n",
            "ipdb> c\n"
          ]
        },
        {
          "output_type": "display_data",
          "data": {
            "text/plain": [
              "<Figure size 640x480 with 1 Axes>"
            ],
            "image/png": "[encoded data removed]"
          },
          "metadata": {}
        }
      ],
      "source": [
        "import matplotlib.pyplot as plt\n",
        "import pdb  # Import the Python debugger module\n",
        "\n",
        "pdb.set_trace()  # Set a breakpoint for debugging\n",
        "\n",
        "# Plot training and testing loss graph\n",
        "plt.plot(history.history['loss'], label='Training Loss')  # Plot training loss\n",
        "plt.plot(history.history['val_loss'], label='Test Loss')  # Plot testing loss\n",
        "plt.xlabel('Epochs')  # Set the label for the x-axis\n",
        "plt.ylabel('Loss')  # Set the label for the y-axis\n",
        "plt.title('Training and Testing Loss')  # Set the title of the plot\n",
        "plt.legend()  # Show legend\n",
        "plt.grid(True)  # Add gridlines to the plot\n",
        "plt.show()  # Display the plot\n"
      ]
    },
    {
      "cell_type": "code",
      "execution_count": 39,
      "metadata": {
        "id": "ThLW1ea6eIVZ",
        "colab": {
          "base_uri": "https://localhost:8080/",
          "height": 876
        },
        "outputId": "ca311793-3597-4e71-f845-a36df3b2779c"
      },
      "outputs": [
        {
          "name": "stdout",
          "output_type": "stream",
          "text": [
            "--Return--\n",
            "None\n",
            "> \u001b[0;32m<ipython-input-39-86b63c9bd054>\u001b[0m(6)\u001b[0;36m<cell line: 6>\u001b[0;34m()\u001b[0m\n",
            "\u001b[0;32m      4 \u001b[0;31m\u001b[0;32mimport\u001b[0m \u001b[0mpdb\u001b[0m  \u001b[0;31m# Import the Python debugger module\u001b[0m\u001b[0;34m\u001b[0m\u001b[0;34m\u001b[0m\u001b[0m\n",
            "\u001b[0m\u001b[0;32m      5 \u001b[0;31m\u001b[0;34m\u001b[0m\u001b[0m\n",
            "\u001b[0m\u001b[0;32m----> 6 \u001b[0;31m\u001b[0mpdb\u001b[0m\u001b[0;34m.\u001b[0m\u001b[0mset_trace\u001b[0m\u001b[0;34m(\u001b[0m\u001b[0;34m)\u001b[0m  \u001b[0;31m# Set a breakpoint for debugging\u001b[0m\u001b[0;34m\u001b[0m\u001b[0;34m\u001b[0m\u001b[0m\n",
            "\u001b[0m\u001b[0;32m      7 \u001b[0;31m\u001b[0;34m\u001b[0m\u001b[0m\n",
            "\u001b[0m\u001b[0;32m      8 \u001b[0;31m\u001b[0;31m# Calculate confusion matrix\u001b[0m\u001b[0;34m\u001b[0m\u001b[0;34m\u001b[0m\u001b[0m\n",
            "\u001b[0m\n",
            "ipdb> conf_matrix\n",
            "*** NameError: name 'conf_matrix' is not defined\n",
            "ipdb> xticklabels\n",
            "*** NameError: name 'xticklabels' is not defined\n",
            "ipdb> y_test\n",
            "array([1, 2, 0, ..., 1, 2, 2])\n",
            "ipdb> y_pred_test\n",
            "array([1, 2, 0, ..., 5, 2, 5])\n",
            "ipdb> c\n"
          ]
        },
        {
          "output_type": "display_data",
          "data": {
            "text/plain": [
              "<Figure size 600x600 with 2 Axes>"
            ],
            "image/png": "[encoded data removed]"
          },
          "metadata": {}
        }
      ],
      "source": [
        "# Import necessary modules\n",
        "from sklearn.metrics import confusion_matrix  # Import confusion_matrix function from sklearn.metrics\n",
        "import seaborn as sns  # Import seaborn library for visualization\n",
        "import pdb  # Import the Python debugger module\n",
        "\n",
        "pdb.set_trace()  # Set a breakpoint for debugging\n",
        "\n",
        "# Calculate confusion matrix\n",
        "conf_matrix = confusion_matrix(y_test, y_pred_test)  # Calculate confusion matrix using predicted and true labels\n",
        "\n",
        "# Plot confusion matrix\n",
        "plt.figure(figsize=(6, 6))  # Set the figure size\n",
        "sns.heatmap(conf_matrix, annot=True, fmt=\"d\", cmap=\"Blues\", xticklabels=np.unique(y_test), yticklabels=np.unique(y_test))\n",
        "# Create heatmap of confusion matrix with annotations and blue color map, with x and y labels representing unique class labels\n",
        "plt.title('Confusion Matrix (Sliding Window)')  # Set the title of the plot\n",
        "plt.xlabel('Predicted Labels')  # Set the label for the x-axis\n",
        "plt.ylabel('Real Labels')  # Set the label for the y-axis\n",
        "plt.show()  # Display the plot\n"
      ]
    },
    {
      "cell_type": "code",
      "execution_count": 41,
      "metadata": {
        "id": "-b7ia9rkeIVZ",
        "colab": {
          "base_uri": "https://localhost:8080/",
          "height": 0
        },
        "outputId": "18bf3bfe-a76e-4de0-ddc8-5a5577901e24"
      },
      "outputs": [
        {
          "output_type": "stream",
          "name": "stdout",
          "text": [
            "--Return--\n",
            "None\n",
            "> \u001b[0;32m<ipython-input-41-4d80f72bcb78>\u001b[0m(4)\u001b[0;36m<cell line: 4>\u001b[0;34m()\u001b[0m\n",
            "\u001b[0;32m      2 \u001b[0;31m\u001b[0;32mimport\u001b[0m \u001b[0mpdb\u001b[0m  \u001b[0;31m# Import the Python debugger module\u001b[0m\u001b[0;34m\u001b[0m\u001b[0;34m\u001b[0m\u001b[0m\n",
            "\u001b[0m\u001b[0;32m      3 \u001b[0;31m\u001b[0;34m\u001b[0m\u001b[0m\n",
            "\u001b[0m\u001b[0;32m----> 4 \u001b[0;31m\u001b[0mpdb\u001b[0m\u001b[0;34m.\u001b[0m\u001b[0mset_trace\u001b[0m\u001b[0;34m(\u001b[0m\u001b[0;34m)\u001b[0m  \u001b[0;31m# Set a breakpoint for debugging\u001b[0m\u001b[0;34m\u001b[0m\u001b[0;34m\u001b[0m\u001b[0m\n",
            "\u001b[0m\u001b[0;32m      5 \u001b[0;31m\u001b[0;34m\u001b[0m\u001b[0m\n",
            "\u001b[0m\u001b[0;32m      6 \u001b[0;31m\u001b[0;31m# Calculate classification report\u001b[0m\u001b[0;34m\u001b[0m\u001b[0;34m\u001b[0m\u001b[0m\n",
            "\u001b[0m\n",
            "ipdb> y_test\n",
            "array([1, 2, 0, ..., 1, 2, 2])\n",
            "ipdb>  y_pred_test\n",
            "array([1, 2, 0, ..., 5, 2, 5])\n",
            "ipdb> report = classification_report(y_test, y_pred_test, target_names=[str(label) for label in np.unique(y_test)])\n",
            "ipdb> target_names\n",
            "*** NameError: name 'target_names' is not defined\n",
            "ipdb> c\n",
            "              precision    recall  f1-score   support\n",
            "\n",
            "           0       0.97      0.72      0.83      1629\n",
            "           1       0.90      0.73      0.81      1698\n",
            "           2       0.57      0.70      0.63      1623\n",
            "           3       0.85      0.71      0.77      1706\n",
            "           4       0.75      0.81      0.78      1691\n",
            "           5       0.66      0.86      0.75      1646\n",
            "\n",
            "    accuracy                           0.76      9993\n",
            "   macro avg       0.78      0.76      0.76      9993\n",
            "weighted avg       0.78      0.76      0.76      9993\n",
            "\n"
          ]
        }
      ],
      "source": [
        "from sklearn.metrics import classification_report\n",
        "import pdb  # Import the Python debugger module\n",
        "\n",
        "pdb.set_trace()  # Set a breakpoint for debugging\n",
        "\n",
        "# Calculate classification report\n",
        "report = classification_report(y_test, y_pred_test, target_names=[str(label) for label in np.unique(y_test)])\n",
        "\n",
        "# Print the classification report\n",
        "print(report)\n"
      ]
    },
    {
      "cell_type": "markdown",
      "source": [
        "\n",
        "\n",
        "---\n",
        "\n",
        "\n",
        "\n",
        "\n",
        "\n"
      ],
      "metadata": {
        "id": "0McswCtxu4lO"
      }
    },
    {
      "cell_type": "markdown",
      "source": [
        "\n",
        "---\n",
        "\n"
      ],
      "metadata": {
        "id": "Dx8LBko2u4bR"
      }
    },
    {
      "cell_type": "markdown",
      "source": [
        "#***Fourier Transform - CNN2***\n",
        "\n",
        "\n"
      ],
      "metadata": {
        "id": "R9c9pDxCudHG"
      }
    },
    {
      "cell_type": "code",
      "source": [
        "import numpy as np\n",
        "from scipy.fft import fft  # Import FFT (Fast Fourier Transform) function from scipy library\n",
        "from sklearn.model_selection import train_test_split\n",
        "from sklearn.preprocessing import StandardScaler\n",
        "from tensorflow.keras.models import Sequential\n",
        "from tensorflow.keras.layers import Conv1D, MaxPooling1D, Flatten, Dense\n",
        "\n",
        "pdb.set_trace()  # Set a breakpoint for debugging\n",
        "def fourier_transform(X):\n",
        "    transformed_data = []  # Initialize an empty list to store transformed data\n",
        "\n",
        "    # Iterate through each item in the dataset\n",
        "    for item in X:\n",
        "        transformed_item = []  # Initialize an empty list to store transformed item\n",
        "\n",
        "        # Transpose the data to work with each channel separately\n",
        "        for channel in item.T:\n",
        "            # Apply FFT (Fast Fourier Transform) to each channel and calculate amplitude\n",
        "            fft_values = fft(channel)\n",
        "\n",
        "            # Append amplitude information to the transformed item list\n",
        "            transformed_item.append(np.abs(fft_values))\n",
        "\n",
        "        # Convert the transformed item list into a NumPy array and append it to the transformed data list\n",
        "        transformed_data.append(np.array(transformed_item))\n",
        "\n",
        "    # Convert the transformed data list into a NumPy array and return\n",
        "    return np.array(transformed_data)\n"
      ],
      "metadata": {
        "colab": {
          "base_uri": "https://localhost:8080/",
          "height": 0
        },
        "id": "SI6ulK_8xDWx",
        "outputId": "9ce681cc-92d0-48c5-b0e1-76d908461384"
      },
      "execution_count": 45,
      "outputs": [
        {
          "name": "stdout",
          "output_type": "stream",
          "text": [
            "--Return--\n",
            "None\n",
            "> \u001b[0;32m<ipython-input-45-7dbc4d0221a3>\u001b[0m(8)\u001b[0;36m<cell line: 8>\u001b[0;34m()\u001b[0m\n",
            "\u001b[0;32m      6 \u001b[0;31m\u001b[0;32mfrom\u001b[0m \u001b[0mtensorflow\u001b[0m\u001b[0;34m.\u001b[0m\u001b[0mkeras\u001b[0m\u001b[0;34m.\u001b[0m\u001b[0mlayers\u001b[0m \u001b[0;32mimport\u001b[0m \u001b[0mConv1D\u001b[0m\u001b[0;34m,\u001b[0m \u001b[0mMaxPooling1D\u001b[0m\u001b[0;34m,\u001b[0m \u001b[0mFlatten\u001b[0m\u001b[0;34m,\u001b[0m \u001b[0mDense\u001b[0m\u001b[0;34m\u001b[0m\u001b[0;34m\u001b[0m\u001b[0m\n",
            "\u001b[0m\u001b[0;32m      7 \u001b[0;31m\u001b[0;34m\u001b[0m\u001b[0m\n",
            "\u001b[0m\u001b[0;32m----> 8 \u001b[0;31m\u001b[0mpdb\u001b[0m\u001b[0;34m.\u001b[0m\u001b[0mset_trace\u001b[0m\u001b[0;34m(\u001b[0m\u001b[0;34m)\u001b[0m  \u001b[0;31m# Set a breakpoint for debugging\u001b[0m\u001b[0;34m\u001b[0m\u001b[0;34m\u001b[0m\u001b[0m\n",
            "\u001b[0m\u001b[0;32m      9 \u001b[0;31m\u001b[0;32mdef\u001b[0m \u001b[0mfourier_transform\u001b[0m\u001b[0;34m(\u001b[0m\u001b[0mX\u001b[0m\u001b[0;34m)\u001b[0m\u001b[0;34m:\u001b[0m\u001b[0;34m\u001b[0m\u001b[0;34m\u001b[0m\u001b[0m\n",
            "\u001b[0m\u001b[0;32m     10 \u001b[0;31m    \u001b[0mtransformed_data\u001b[0m \u001b[0;34m=\u001b[0m \u001b[0;34m[\u001b[0m\u001b[0;34m]\u001b[0m  \u001b[0;31m# Initialize an empty list to store transformed data\u001b[0m\u001b[0;34m\u001b[0m\u001b[0;34m\u001b[0m\u001b[0m\n",
            "\u001b[0m\n",
            "ipdb> cc\n",
            "*** NameError: name 'cc' is not defined\n",
            "ipdb> c\n"
          ]
        }
      ]
    },
    {
      "cell_type": "code",
      "source": [
        "# apply fourier transform\n",
        "pdb.set_trace()  # Set a breakpoint for debugging\n",
        "transformed_X = fourier_transform(X)"
      ],
      "metadata": {
        "execution": {
          "iopub.status.busy": "2024-01-12T11:23:52.185327Z",
          "iopub.execute_input": "2024-01-12T11:23:52.18576Z",
          "iopub.status.idle": "2024-01-12T11:24:01.333073Z",
          "shell.execute_reply.started": "2024-01-12T11:23:52.185724Z",
          "shell.execute_reply": "2024-01-12T11:24:01.331307Z"
        },
        "trusted": true,
        "id": "r-2LonjRudHG",
        "colab": {
          "base_uri": "https://localhost:8080/",
          "height": 0
        },
        "outputId": "fb7e2d4f-d917-426c-a39f-c37f9d5a107c"
      },
      "execution_count": 47,
      "outputs": [
        {
          "name": "stdout",
          "output_type": "stream",
          "text": [
            "--Return--\n",
            "None\n",
            "> \u001b[0;32m<ipython-input-47-0b9a94259252>\u001b[0m(2)\u001b[0;36m<cell line: 2>\u001b[0;34m()\u001b[0m\n",
            "\u001b[0;32m      1 \u001b[0;31m\u001b[0;31m# apply fourier transform\u001b[0m\u001b[0;34m\u001b[0m\u001b[0;34m\u001b[0m\u001b[0m\n",
            "\u001b[0m\u001b[0;32m----> 2 \u001b[0;31m\u001b[0mpdb\u001b[0m\u001b[0;34m.\u001b[0m\u001b[0mset_trace\u001b[0m\u001b[0;34m(\u001b[0m\u001b[0;34m)\u001b[0m  \u001b[0;31m# Set a breakpoint for debugging\u001b[0m\u001b[0;34m\u001b[0m\u001b[0;34m\u001b[0m\u001b[0m\n",
            "\u001b[0m\u001b[0;32m      3 \u001b[0;31m\u001b[0mtransformed_X\u001b[0m \u001b[0;34m=\u001b[0m \u001b[0mfourier_transform\u001b[0m\u001b[0;34m(\u001b[0m\u001b[0mX\u001b[0m\u001b[0;34m)\u001b[0m\u001b[0;34m\u001b[0m\u001b[0;34m\u001b[0m\u001b[0m\n",
            "\u001b[0m\n",
            "ipdb> X\n",
            "array([[[0.49803922, 0.50196078, 0.49803922, ..., 0.49803922,\n",
            "         0.49803922, 0.50588235],\n",
            "        [0.49803922, 0.49411765, 0.50196078, ..., 0.49803922,\n",
            "         0.49019608, 0.49411765],\n",
            "        [0.49803922, 0.49411765, 0.50196078, ..., 0.49803922,\n",
            "         0.49019608, 0.49411765],\n",
            "        ...,\n",
            "        [0.49411765, 0.50196078, 0.49411765, ..., 0.49803922,\n",
            "         0.49803922, 0.50588235],\n",
            "        [0.49019608, 0.48235294, 0.49803922, ..., 0.49803922,\n",
            "         0.49803922, 0.49803922],\n",
            "        [0.49019608, 0.48235294, 0.49803922, ..., 0.49803922,\n",
            "         0.49803922, 0.49803922]],\n",
            "\n",
            "       [[0.49803922, 0.49803922, 0.49411765, ..., 0.49803922,\n",
            "         0.49411765, 0.49803922],\n",
            "        [0.49803922, 0.49803922, 0.49411765, ..., 0.49803922,\n",
            "         0.49411765, 0.49803922],\n",
            "        [0.49411765, 0.49411765, 0.49411765, ..., 0.50588235,\n",
            "         0.49411765, 0.49803922],\n",
            "        ...,\n",
            "        [0.49019608, 0.50196078, 0.50980392, ..., 0.50196078,\n",
            "         0.49803922, 0.49803922],\n",
            "        [0.49019608, 0.50196078, 0.50980392, ..., 0.50196078,\n",
            "         0.49803922, 0.49803922],\n",
            "        [0.49019608, 0.50196078, 0.50980392, ..., 0.50196078,\n",
            "         0.49803922, 0.49803922]],\n",
            "\n",
            "       [[0.49803922, 0.49803922, 0.49411765, ..., 0.49803922,\n",
            "         0.50196078, 0.49803922],\n",
            "        [0.49803922, 0.49803922, 0.49411765, ..., 0.49803922,\n",
            "         0.50196078, 0.49803922],\n",
            "        [0.49803922, 0.49803922, 0.49411765, ..., 0.49803922,\n",
            "         0.50196078, 0.49803922],\n",
            "        ...,\n",
            "        [0.49803922, 0.50588235, 0.49411765, ..., 0.50588235,\n",
            "         0.49803922, 0.50196078],\n",
            "        [0.49803922, 0.50588235, 0.49411765, ..., 0.50588235,\n",
            "         0.49803922, 0.50196078],\n",
            "        [0.49803922, 0.50588235, 0.49411765, ..., 0.50588235,\n",
            "         0.49803922, 0.50196078]],\n",
            "\n",
            "       ...,\n",
            "\n",
            "       [[0.52941176, 0.52156863, 0.49803922, ..., 0.43529412,\n",
            "         0.48235294, 0.51764706],\n",
            "        [0.52941176, 0.52156863, 0.49803922, ..., 0.43529412,\n",
            "         0.48235294, 0.51764706],\n",
            "        [0.52941176, 0.52156863, 0.49803922, ..., 0.43529412,\n",
            "         0.48235294, 0.51764706],\n",
            "        ...,\n",
            "        [0.51372549, 0.49019608, 0.48235294, ..., 0.50588235,\n",
            "         0.53333333, 0.44705882],\n",
            "        [0.51372549, 0.49019608, 0.48235294, ..., 0.50588235,\n",
            "         0.53333333, 0.44705882],\n",
            "        [0.51372549, 0.49019608, 0.48235294, ..., 0.50588235,\n",
            "         0.53333333, 0.44705882]],\n",
            "\n",
            "       [[0.43529412, 0.49019608, 0.49019608, ..., 0.57647059,\n",
            "         0.50196078, 0.49019608],\n",
            "        [0.48627451, 0.51372549, 0.49803922, ..., 0.56470588,\n",
            "         0.54901961, 0.43921569],\n",
            "        [0.48627451, 0.51372549, 0.49803922, ..., 0.56470588,\n",
            "         0.54901961, 0.43921569],\n",
            "        ...,\n",
            "        [0.52156863, 0.50980392, 0.50980392, ..., 0.41176471,\n",
            "         0.47058824, 0.51372549],\n",
            "        [0.52156863, 0.50980392, 0.50980392, ..., 0.41176471,\n",
            "         0.47058824, 0.51372549],\n",
            "        [0.52156863, 0.50980392, 0.50980392, ..., 0.41176471,\n",
            "         0.47058824, 0.51372549]],\n",
            "\n",
            "       [[0.5254902 , 0.49803922, 0.49803922, ..., 0.50980392,\n",
            "         0.51764706, 0.52941176],\n",
            "        [0.5254902 , 0.49803922, 0.49803922, ..., 0.50980392,\n",
            "         0.51764706, 0.52941176],\n",
            "        [0.5254902 , 0.49803922, 0.49803922, ..., 0.50980392,\n",
            "         0.51764706, 0.52941176],\n",
            "        ...,\n",
            "        [0.5372549 , 0.50588235, 0.51372549, ..., 0.47058824,\n",
            "         0.51764706, 0.50196078],\n",
            "        [0.5372549 , 0.50588235, 0.51372549, ..., 0.47058824,\n",
            "         0.51764706, 0.50196078],\n",
            "        [0.5372549 , 0.50588235, 0.51372549, ..., 0.47058824,\n",
            "         0.51764706, 0.50196078]]])\n",
            "ipdb> c\n"
          ]
        }
      ]
    },
    {
      "cell_type": "code",
      "source": [
        "# Transpose the transformed data to bring the channels dimension to the last axis\n",
        "\n",
        "pdb.set_trace()  # Set a breakpoint for debugging\n",
        "transposed_X = np.transpose(transformed_X, (0, 2, 1))\n"
      ],
      "metadata": {
        "execution": {
          "iopub.status.busy": "2024-01-12T11:24:01.336138Z",
          "iopub.execute_input": "2024-01-12T11:24:01.337466Z",
          "iopub.status.idle": "2024-01-12T11:24:01.343085Z",
          "shell.execute_reply.started": "2024-01-12T11:24:01.337417Z",
          "shell.execute_reply": "2024-01-12T11:24:01.341475Z"
        },
        "trusted": true,
        "id": "448rEUKsudHG",
        "colab": {
          "base_uri": "https://localhost:8080/",
          "height": 0
        },
        "outputId": "6d19e4a6-9d2d-4254-ec16-e36118383948"
      },
      "execution_count": 49,
      "outputs": [
        {
          "name": "stdout",
          "output_type": "stream",
          "text": [
            "--Return--\n",
            "None\n",
            "> \u001b[0;32m<ipython-input-49-6e1bab5b57d8>\u001b[0m(3)\u001b[0;36m<cell line: 3>\u001b[0;34m()\u001b[0m\n",
            "\u001b[0;32m      1 \u001b[0;31m\u001b[0;31m# Transpose the transformed data to bring the channels dimension to the last axis\u001b[0m\u001b[0;34m\u001b[0m\u001b[0;34m\u001b[0m\u001b[0m\n",
            "\u001b[0m\u001b[0;32m      2 \u001b[0;31m\u001b[0;34m\u001b[0m\u001b[0m\n",
            "\u001b[0m\u001b[0;32m----> 3 \u001b[0;31m\u001b[0mpdb\u001b[0m\u001b[0;34m.\u001b[0m\u001b[0mset_trace\u001b[0m\u001b[0;34m(\u001b[0m\u001b[0;34m)\u001b[0m  \u001b[0;31m# Set a breakpoint for debugging\u001b[0m\u001b[0;34m\u001b[0m\u001b[0;34m\u001b[0m\u001b[0m\n",
            "\u001b[0m\u001b[0;32m      4 \u001b[0;31m\u001b[0mtransposed_X\u001b[0m \u001b[0;34m=\u001b[0m \u001b[0mnp\u001b[0m\u001b[0;34m.\u001b[0m\u001b[0mtranspose\u001b[0m\u001b[0;34m(\u001b[0m\u001b[0mtransformed_X\u001b[0m\u001b[0;34m,\u001b[0m \u001b[0;34m(\u001b[0m\u001b[0;36m0\u001b[0m\u001b[0;34m,\u001b[0m \u001b[0;36m2\u001b[0m\u001b[0;34m,\u001b[0m \u001b[0;36m1\u001b[0m\u001b[0;34m)\u001b[0m\u001b[0;34m)\u001b[0m\u001b[0;34m\u001b[0m\u001b[0;34m\u001b[0m\u001b[0m\n",
            "\u001b[0m\n",
            "ipdb> transformed_X\n",
            "array([[[7.46666667e+01, 2.18562021e-01, 4.24619374e-02, ...,\n",
            "         5.83416259e-02, 4.24619374e-02, 2.18562021e-01],\n",
            "        [7.42196078e+01, 2.56217750e-01, 4.04929852e-01, ...,\n",
            "         1.43904925e-01, 4.04929852e-01, 2.56217750e-01],\n",
            "        [7.44666667e+01, 7.23422538e-01, 4.85802242e-01, ...,\n",
            "         4.11527638e-01, 4.85802242e-01, 7.23422538e-01],\n",
            "        ...,\n",
            "        [7.48156863e+01, 1.49177724e-01, 2.34330201e-01, ...,\n",
            "         1.24434113e-01, 2.34330201e-01, 1.49177724e-01],\n",
            "        [7.49019608e+01, 2.48420649e-01, 1.23094829e-01, ...,\n",
            "         1.31925262e-01, 1.23094829e-01, 2.48420649e-01],\n",
            "        [7.48196078e+01, 1.35793198e-01, 2.89353273e-01, ...,\n",
            "         2.26135616e-01, 2.89353273e-01, 1.35793198e-01]],\n",
            "\n",
            "       [[7.44627451e+01, 3.08651078e-01, 1.65038818e-01, ...,\n",
            "         1.54708641e-01, 1.65038818e-01, 3.08651078e-01],\n",
            "        [7.39372549e+01, 2.84331270e-01, 3.41088014e-01, ...,\n",
            "         2.33746510e-01, 3.41088014e-01, 2.84331270e-01],\n",
            "        [7.43568627e+01, 6.35424930e-01, 5.90744090e-01, ...,\n",
            "         2.86034951e-01, 5.90744090e-01, 6.35424930e-01],\n",
            "        ...,\n",
            "        [7.48862745e+01, 1.68850246e-01, 3.00450438e-01, ...,\n",
            "         5.69819630e-02, 3.00450438e-01, 1.68850246e-01],\n",
            "        [7.48470588e+01, 3.08467636e-01, 3.54895155e-02, ...,\n",
            "         4.25066810e-02, 3.54895155e-02, 3.08467636e-01],\n",
            "        [7.47647059e+01, 8.19657966e-02, 3.30876476e-01, ...,\n",
            "         2.04315036e-01, 3.30876476e-01, 8.19657966e-02]],\n",
            "\n",
            "       [[7.44156863e+01, 3.66824534e-01, 1.58479059e-01, ...,\n",
            "         6.66244444e-02, 1.58479059e-01, 3.66824534e-01],\n",
            "        [7.43686275e+01, 2.77869671e-01, 4.83190781e-01, ...,\n",
            "         1.89066071e-01, 4.83190781e-01, 2.77869671e-01],\n",
            "        [7.45960784e+01, 6.04307708e-01, 8.27392764e-01, ...,\n",
            "         1.00979693e-01, 8.27392764e-01, 6.04307708e-01],\n",
            "        ...,\n",
            "        [7.48431373e+01, 1.31529275e-01, 2.73084438e-01, ...,\n",
            "         7.16254619e-02, 2.73084438e-01, 1.31529275e-01],\n",
            "        [7.49607843e+01, 2.13818856e-01, 6.34513967e-02, ...,\n",
            "         5.90035920e-02, 6.34513967e-02, 2.13818856e-01],\n",
            "        [7.47686275e+01, 8.70744452e-02, 3.22046076e-01, ...,\n",
            "         2.17252517e-01, 3.22046076e-01, 8.70744452e-02]],\n",
            "\n",
            "       ...,\n",
            "\n",
            "       [[7.48431373e+01, 1.18730807e+00, 7.05462522e-01, ...,\n",
            "         1.50820776e+00, 7.05462522e-01, 1.18730807e+00],\n",
            "        [7.49960784e+01, 3.63583236e-01, 4.32784424e-01, ...,\n",
            "         2.44317250e-01, 4.32784424e-01, 3.63583236e-01],\n",
            "        [7.42431373e+01, 3.90257712e-01, 3.72808757e-01, ...,\n",
            "         4.64675455e-01, 3.72808757e-01, 3.90257712e-01],\n",
            "        ...,\n",
            "        [7.49882353e+01, 3.41909969e+00, 2.73809640e+00, ...,\n",
            "         1.02195809e+00, 2.73809640e+00, 3.41909969e+00],\n",
            "        [7.53137255e+01, 8.89319251e-01, 1.87003598e+00, ...,\n",
            "         1.34128393e+00, 1.87003598e+00, 8.89319251e-01],\n",
            "        [7.56980392e+01, 1.10111123e+00, 8.41543672e-01, ...,\n",
            "         1.76577682e+00, 8.41543672e-01, 1.10111123e+00]],\n",
            "\n",
            "       [[7.53215686e+01, 1.11202145e+00, 5.07883971e-01, ...,\n",
            "         7.98184689e-01, 5.07883971e-01, 1.11202145e+00],\n",
            "        [7.47450980e+01, 3.69277983e-01, 1.78774611e-01, ...,\n",
            "         5.88854916e-01, 1.78774611e-01, 3.69277983e-01],\n",
            "        [7.40823529e+01, 2.36945857e-01, 4.01790149e-01, ...,\n",
            "         5.85834886e-01, 4.01790149e-01, 2.36945857e-01],\n",
            "        ...,\n",
            "        [7.42313725e+01, 2.60986943e+00, 1.29391532e+00, ...,\n",
            "         1.50304633e+00, 1.29391532e+00, 2.60986943e+00],\n",
            "        [7.60588235e+01, 3.47195360e-01, 1.72041894e+00, ...,\n",
            "         1.72065029e+00, 1.72041894e+00, 3.47195360e-01],\n",
            "        [7.41843137e+01, 2.53350842e+00, 1.47299659e+00, ...,\n",
            "         9.71320636e-01, 1.47299659e+00, 2.53350842e+00]],\n",
            "\n",
            "       [[7.77882353e+01, 3.15268917e+00, 1.90842247e+00, ...,\n",
            "         2.37744840e+00, 1.90842247e+00, 3.15268917e+00],\n",
            "        [7.45764706e+01, 2.12929389e-01, 2.42185669e-01, ...,\n",
            "         5.22784683e-01, 2.42185669e-01, 2.12929389e-01],\n",
            "        [7.40274510e+01, 1.91131496e-01, 3.53300896e-01, ...,\n",
            "         4.52944360e-01, 3.53300896e-01, 1.91131496e-01],\n",
            "        ...,\n",
            "        [7.27098039e+01, 2.04080967e+00, 1.17587212e+00, ...,\n",
            "         2.11087246e+00, 1.17587212e+00, 2.04080967e+00],\n",
            "        [7.51098039e+01, 5.94251293e-01, 1.55727618e+00, ...,\n",
            "         1.93280541e+00, 1.55727618e+00, 5.94251293e-01],\n",
            "        [7.46470588e+01, 2.14652271e+00, 2.01155801e+00, ...,\n",
            "         9.82226341e-01, 2.01155801e+00, 2.14652271e+00]]])\n",
            "ipdb> c\n"
          ]
        }
      ]
    },
    {
      "cell_type": "code",
      "source": [
        "# Split the transformed data into training and testing sets\n",
        "\n",
        "pdb.set_trace()  # Set a breakpoint for debugging\n",
        "X_train_ft, X_test_ft, y_train_ft, y_test_ft = train_test_split(transposed_X, Y, test_size=0.2, random_state=42)\n"
      ],
      "metadata": {
        "execution": {
          "iopub.status.busy": "2024-01-12T11:24:01.345039Z",
          "iopub.execute_input": "2024-01-12T11:24:01.345462Z",
          "iopub.status.idle": "2024-01-12T11:24:01.572597Z",
          "shell.execute_reply.started": "2024-01-12T11:24:01.345428Z",
          "shell.execute_reply": "2024-01-12T11:24:01.571426Z"
        },
        "trusted": true,
        "id": "YyiMXf6IudHf",
        "colab": {
          "base_uri": "https://localhost:8080/",
          "height": 0
        },
        "outputId": "1cc92271-cdfd-412e-d7ae-a75e421852da"
      },
      "execution_count": 53,
      "outputs": [
        {
          "name": "stdout",
          "output_type": "stream",
          "text": [
            "--Return--\n",
            "None\n",
            "> \u001b[0;32m<ipython-input-53-c06409010745>\u001b[0m(3)\u001b[0;36m<cell line: 3>\u001b[0;34m()\u001b[0m\n",
            "\u001b[0;32m      1 \u001b[0;31m\u001b[0;31m# Split the transformed data into training and testing sets\u001b[0m\u001b[0;34m\u001b[0m\u001b[0;34m\u001b[0m\u001b[0m\n",
            "\u001b[0m\u001b[0;32m      2 \u001b[0;31m\u001b[0;34m\u001b[0m\u001b[0m\n",
            "\u001b[0m\u001b[0;32m----> 3 \u001b[0;31m\u001b[0mpdb\u001b[0m\u001b[0;34m.\u001b[0m\u001b[0mset_trace\u001b[0m\u001b[0;34m(\u001b[0m\u001b[0;34m)\u001b[0m  \u001b[0;31m# Set a breakpoint for debugging\u001b[0m\u001b[0;34m\u001b[0m\u001b[0;34m\u001b[0m\u001b[0m\n",
            "\u001b[0m\u001b[0;32m      4 \u001b[0;31m\u001b[0mX_train_ft\u001b[0m\u001b[0;34m,\u001b[0m \u001b[0mX_test_ft\u001b[0m\u001b[0;34m,\u001b[0m \u001b[0my_train_ft\u001b[0m\u001b[0;34m,\u001b[0m \u001b[0my_test_ft\u001b[0m \u001b[0;34m=\u001b[0m \u001b[0mtrain_test_split\u001b[0m\u001b[0;34m(\u001b[0m\u001b[0mtransposed_X\u001b[0m\u001b[0;34m,\u001b[0m \u001b[0mY\u001b[0m\u001b[0;34m,\u001b[0m \u001b[0mtest_size\u001b[0m\u001b[0;34m=\u001b[0m\u001b[0;36m0.2\u001b[0m\u001b[0;34m,\u001b[0m \u001b[0mrandom_state\u001b[0m\u001b[0;34m=\u001b[0m\u001b[0;36m42\u001b[0m\u001b[0;34m)\u001b[0m\u001b[0;34m\u001b[0m\u001b[0;34m\u001b[0m\u001b[0m\n",
            "\u001b[0m\n",
            "ipdb> train_test_split\n",
            "<function train_test_split at 0x7dfdab013490>\n",
            "ipdb> Y\n",
            "array([0, 0, 0, ..., 5, 5, 5])\n",
            "ipdb> transposed_X\n",
            "array([[[7.46666667e+01, 7.42196078e+01, 7.44666667e+01, ...,\n",
            "         7.48156863e+01, 7.49019608e+01, 7.48196078e+01],\n",
            "        [2.18562021e-01, 2.56217750e-01, 7.23422538e-01, ...,\n",
            "         1.49177724e-01, 2.48420649e-01, 1.35793198e-01],\n",
            "        [4.24619374e-02, 4.04929852e-01, 4.85802242e-01, ...,\n",
            "         2.34330201e-01, 1.23094829e-01, 2.89353273e-01],\n",
            "        ...,\n",
            "        [5.83416259e-02, 1.43904925e-01, 4.11527638e-01, ...,\n",
            "         1.24434113e-01, 1.31925262e-01, 2.26135616e-01],\n",
            "        [4.24619374e-02, 4.04929852e-01, 4.85802242e-01, ...,\n",
            "         2.34330201e-01, 1.23094829e-01, 2.89353273e-01],\n",
            "        [2.18562021e-01, 2.56217750e-01, 7.23422538e-01, ...,\n",
            "         1.49177724e-01, 2.48420649e-01, 1.35793198e-01]],\n",
            "\n",
            "       [[7.44627451e+01, 7.39372549e+01, 7.43568627e+01, ...,\n",
            "         7.48862745e+01, 7.48470588e+01, 7.47647059e+01],\n",
            "        [3.08651078e-01, 2.84331270e-01, 6.35424930e-01, ...,\n",
            "         1.68850246e-01, 3.08467636e-01, 8.19657966e-02],\n",
            "        [1.65038818e-01, 3.41088014e-01, 5.90744090e-01, ...,\n",
            "         3.00450438e-01, 3.54895155e-02, 3.30876476e-01],\n",
            "        ...,\n",
            "        [1.54708641e-01, 2.33746510e-01, 2.86034951e-01, ...,\n",
            "         5.69819630e-02, 4.25066810e-02, 2.04315036e-01],\n",
            "        [1.65038818e-01, 3.41088014e-01, 5.90744090e-01, ...,\n",
            "         3.00450438e-01, 3.54895155e-02, 3.30876476e-01],\n",
            "        [3.08651078e-01, 2.84331270e-01, 6.35424930e-01, ...,\n",
            "         1.68850246e-01, 3.08467636e-01, 8.19657966e-02]],\n",
            "\n",
            "       [[7.44156863e+01, 7.43686275e+01, 7.45960784e+01, ...,\n",
            "         7.48431373e+01, 7.49607843e+01, 7.47686275e+01],\n",
            "        [3.66824534e-01, 2.77869671e-01, 6.04307708e-01, ...,\n",
            "         1.31529275e-01, 2.13818856e-01, 8.70744452e-02],\n",
            "        [1.58479059e-01, 4.83190781e-01, 8.27392764e-01, ...,\n",
            "         2.73084438e-01, 6.34513967e-02, 3.22046076e-01],\n",
            "        ...,\n",
            "        [6.66244444e-02, 1.89066071e-01, 1.00979693e-01, ...,\n",
            "         7.16254619e-02, 5.90035920e-02, 2.17252517e-01],\n",
            "        [1.58479059e-01, 4.83190781e-01, 8.27392764e-01, ...,\n",
            "         2.73084438e-01, 6.34513967e-02, 3.22046076e-01],\n",
            "        [3.66824534e-01, 2.77869671e-01, 6.04307708e-01, ...,\n",
            "         1.31529275e-01, 2.13818856e-01, 8.70744452e-02]],\n",
            "\n",
            "       ...,\n",
            "\n",
            "       [[7.48431373e+01, 7.49960784e+01, 7.42431373e+01, ...,\n",
            "         7.49882353e+01, 7.53137255e+01, 7.56980392e+01],\n",
            "        [1.18730807e+00, 3.63583236e-01, 3.90257712e-01, ...,\n",
            "         3.41909969e+00, 8.89319251e-01, 1.10111123e+00],\n",
            "        [7.05462522e-01, 4.32784424e-01, 3.72808757e-01, ...,\n",
            "         2.73809640e+00, 1.87003598e+00, 8.41543672e-01],\n",
            "        ...,\n",
            "        [1.50820776e+00, 2.44317250e-01, 4.64675455e-01, ...,\n",
            "         1.02195809e+00, 1.34128393e+00, 1.76577682e+00],\n",
            "        [7.05462522e-01, 4.32784424e-01, 3.72808757e-01, ...,\n",
            "         2.73809640e+00, 1.87003598e+00, 8.41543672e-01],\n",
            "        [1.18730807e+00, 3.63583236e-01, 3.90257712e-01, ...,\n",
            "         3.41909969e+00, 8.89319251e-01, 1.10111123e+00]],\n",
            "\n",
            "       [[7.53215686e+01, 7.47450980e+01, 7.40823529e+01, ...,\n",
            "         7.42313725e+01, 7.60588235e+01, 7.41843137e+01],\n",
            "        [1.11202145e+00, 3.69277983e-01, 2.36945857e-01, ...,\n",
            "         2.60986943e+00, 3.47195360e-01, 2.53350842e+00],\n",
            "        [5.07883971e-01, 1.78774611e-01, 4.01790149e-01, ...,\n",
            "         1.29391532e+00, 1.72041894e+00, 1.47299659e+00],\n",
            "        ...,\n",
            "        [7.98184689e-01, 5.88854916e-01, 5.85834886e-01, ...,\n",
            "         1.50304633e+00, 1.72065029e+00, 9.71320636e-01],\n",
            "        [5.07883971e-01, 1.78774611e-01, 4.01790149e-01, ...,\n",
            "         1.29391532e+00, 1.72041894e+00, 1.47299659e+00],\n",
            "        [1.11202145e+00, 3.69277983e-01, 2.36945857e-01, ...,\n",
            "         2.60986943e+00, 3.47195360e-01, 2.53350842e+00]],\n",
            "\n",
            "       [[7.77882353e+01, 7.45764706e+01, 7.40274510e+01, ...,\n",
            "         7.27098039e+01, 7.51098039e+01, 7.46470588e+01],\n",
            "        [3.15268917e+00, 2.12929389e-01, 1.91131496e-01, ...,\n",
            "         2.04080967e+00, 5.94251293e-01, 2.14652271e+00],\n",
            "        [1.90842247e+00, 2.42185669e-01, 3.53300896e-01, ...,\n",
            "         1.17587212e+00, 1.55727618e+00, 2.01155801e+00],\n",
            "        ...,\n",
            "        [2.37744840e+00, 5.22784683e-01, 4.52944360e-01, ...,\n",
            "         2.11087246e+00, 1.93280541e+00, 9.82226341e-01],\n",
            "        [1.90842247e+00, 2.42185669e-01, 3.53300896e-01, ...,\n",
            "         1.17587212e+00, 1.55727618e+00, 2.01155801e+00],\n",
            "        [3.15268917e+00, 2.12929389e-01, 1.91131496e-01, ...,\n",
            "         2.04080967e+00, 5.94251293e-01, 2.14652271e+00]]])\n",
            "ipdb> c\n"
          ]
        }
      ]
    },
    {
      "cell_type": "code",
      "source": [
        "# Define CNN model\n",
        "pdb.set_trace()  # Set a breakpoint for debugging\n",
        "input_shape = X_train_ft.shape[1:]  # Determine input shape based on transformed data\n",
        "num_classes = len(np.unique(Y))   # Determine the number of classes based on unique values in the target vector\n",
        "\n",
        "# Create CNN model using the determined input shape and number of classes\n",
        "model_ft = CNN_model(input_shape, num_classes)\n"
      ],
      "metadata": {
        "execution": {
          "iopub.status.busy": "2024-01-12T11:24:01.575122Z",
          "iopub.execute_input": "2024-01-12T11:24:01.57562Z",
          "iopub.status.idle": "2024-01-12T11:24:01.707571Z",
          "shell.execute_reply.started": "2024-01-12T11:24:01.575574Z",
          "shell.execute_reply": "2024-01-12T11:24:01.706575Z"
        },
        "trusted": true,
        "id": "AKShs766udHg",
        "colab": {
          "base_uri": "https://localhost:8080/",
          "height": 0
        },
        "outputId": "37b1f5b8-ff4d-4608-b37b-da2bd1d196f7"
      },
      "execution_count": 54,
      "outputs": [
        {
          "output_type": "stream",
          "name": "stdout",
          "text": [
            "--Return--\n",
            "None\n",
            "> \u001b[0;32m<ipython-input-54-8b93abec2ef3>\u001b[0m(2)\u001b[0;36m<cell line: 2>\u001b[0;34m()\u001b[0m\n",
            "\u001b[0;32m      1 \u001b[0;31m\u001b[0;31m# Define CNN model\u001b[0m\u001b[0;34m\u001b[0m\u001b[0;34m\u001b[0m\u001b[0m\n",
            "\u001b[0m\u001b[0;32m----> 2 \u001b[0;31m\u001b[0mpdb\u001b[0m\u001b[0;34m.\u001b[0m\u001b[0mset_trace\u001b[0m\u001b[0;34m(\u001b[0m\u001b[0;34m)\u001b[0m  \u001b[0;31m# Set a breakpoint for debugging\u001b[0m\u001b[0;34m\u001b[0m\u001b[0;34m\u001b[0m\u001b[0m\n",
            "\u001b[0m\u001b[0;32m      3 \u001b[0;31m\u001b[0minput_shape\u001b[0m \u001b[0;34m=\u001b[0m \u001b[0mX_train_ft\u001b[0m\u001b[0;34m.\u001b[0m\u001b[0mshape\u001b[0m\u001b[0;34m[\u001b[0m\u001b[0;36m1\u001b[0m\u001b[0;34m:\u001b[0m\u001b[0;34m]\u001b[0m  \u001b[0;31m# Determine input shape based on transformed data\u001b[0m\u001b[0;34m\u001b[0m\u001b[0;34m\u001b[0m\u001b[0m\n",
            "\u001b[0m\u001b[0;32m      4 \u001b[0;31m\u001b[0mnum_classes\u001b[0m \u001b[0;34m=\u001b[0m \u001b[0mlen\u001b[0m\u001b[0;34m(\u001b[0m\u001b[0mnp\u001b[0m\u001b[0;34m.\u001b[0m\u001b[0munique\u001b[0m\u001b[0;34m(\u001b[0m\u001b[0mY\u001b[0m\u001b[0;34m)\u001b[0m\u001b[0;34m)\u001b[0m   \u001b[0;31m# Determine the number of classes based on unique values in the target vector\u001b[0m\u001b[0;34m\u001b[0m\u001b[0;34m\u001b[0m\u001b[0m\n",
            "\u001b[0m\u001b[0;32m      5 \u001b[0;31m\u001b[0;34m\u001b[0m\u001b[0m\n",
            "\u001b[0m\n",
            "ipdb> X_train_ft\n",
            "array([[[75.18823529, 75.07058824, 75.48627451, ..., 56.51372549,\n",
            "         70.82745098, 75.16078431],\n",
            "        [ 1.07017284,  0.98949651,  1.09555489, ..., 10.07125687,\n",
            "          3.32044611,  0.62826559],\n",
            "        [ 1.45868687,  0.4105095 ,  0.78586502, ..., 13.77989908,\n",
            "          1.72713401,  2.15827124],\n",
            "        ...,\n",
            "        [ 0.68355805,  0.86812561,  1.57849972, ...,  3.40079646,\n",
            "          1.75241488,  2.78489233],\n",
            "        [ 1.45868687,  0.4105095 ,  0.78586502, ..., 13.77989908,\n",
            "          1.72713401,  2.15827124],\n",
            "        [ 1.07017284,  0.98949651,  1.09555489, ..., 10.07125687,\n",
            "          3.32044611,  0.62826559]],\n",
            "\n",
            "       [[74.74117647, 74.37647059, 74.55294118, ..., 71.43921569,\n",
            "         71.81568627, 80.34901961],\n",
            "        [ 6.9970278 ,  1.70002967,  0.96518501, ...,  2.01754843,\n",
            "          1.61181191,  7.38650989],\n",
            "        [ 4.14561735,  5.06256215,  1.43991827, ...,  0.6452707 ,\n",
            "          2.5950258 ,  4.38928401],\n",
            "        ...,\n",
            "        [ 5.36059222,  2.10244738,  0.62519699, ...,  0.86607529,\n",
            "          1.09115059,  2.86669969],\n",
            "        [ 4.14561735,  5.06256215,  1.43991827, ...,  0.6452707 ,\n",
            "          2.5950258 ,  4.38928401],\n",
            "        [ 6.9970278 ,  1.70002967,  0.96518501, ...,  2.01754843,\n",
            "          1.61181191,  7.38650989]],\n",
            "\n",
            "       [[75.25490196, 74.11372549, 76.11764706, ..., 75.59215686,\n",
            "         71.17254902, 73.7254902 ],\n",
            "        [ 6.59340348,  2.84322723,  0.30715199, ...,  3.83275466,\n",
            "          3.18071631,  4.7108209 ],\n",
            "        [ 5.1978421 ,  2.78043867,  0.50530328, ...,  2.45841224,\n",
            "          3.92911225,  2.03650547],\n",
            "        ...,\n",
            "        [ 5.1322105 ,  0.89657743,  1.30310196, ...,  1.46218435,\n",
            "          0.5951281 ,  4.09079517],\n",
            "        [ 5.1978421 ,  2.78043867,  0.50530328, ...,  2.45841224,\n",
            "          3.92911225,  2.03650547],\n",
            "        [ 6.59340348,  2.84322723,  0.30715199, ...,  3.83275466,\n",
            "          3.18071631,  4.7108209 ]],\n",
            "\n",
            "       ...,\n",
            "\n",
            "       [[72.7254902 , 74.12941176, 77.10588235, ..., 73.17254902,\n",
            "         72.67058824, 73.2745098 ],\n",
            "        [ 0.9187527 ,  0.13644363,  2.93901184, ...,  1.98151671,\n",
            "          6.8695141 ,  2.74287826],\n",
            "        [ 1.21372941,  1.13634472,  2.74573565, ...,  1.3447876 ,\n",
            "          4.70354701,  1.32693137],\n",
            "        ...,\n",
            "        [ 0.61847279,  0.70655721,  1.72097994, ...,  1.00178704,\n",
            "          2.4692364 ,  0.99067937],\n",
            "        [ 1.21372941,  1.13634472,  2.74573565, ...,  1.3447876 ,\n",
            "          4.70354701,  1.32693137],\n",
            "        [ 0.9187527 ,  0.13644363,  2.93901184, ...,  1.98151671,\n",
            "          6.8695141 ,  2.74287826]],\n",
            "\n",
            "       [[74.10588235, 70.94117647, 75.25882353, ..., 74.43529412,\n",
            "         73.2627451 , 74.27843137],\n",
            "        [ 1.2604918 ,  6.19115737,  1.2636082 , ...,  1.89135179,\n",
            "          1.90836597,  3.23105175],\n",
            "        [ 0.76695713,  3.44101475,  0.56191982, ...,  1.57006968,\n",
            "          0.14113021,  1.92711679],\n",
            "        ...,\n",
            "        [ 1.63496124,  1.79766009,  0.18887675, ...,  1.36774554,\n",
            "          0.66163536,  1.59270832],\n",
            "        [ 0.76695713,  3.44101475,  0.56191982, ...,  1.57006968,\n",
            "          0.14113021,  1.92711679],\n",
            "        [ 1.2604918 ,  6.19115737,  1.2636082 , ...,  1.89135179,\n",
            "          1.90836597,  3.23105175]],\n",
            "\n",
            "       [[73.43529412, 74.08627451, 73.03921569, ..., 74.9372549 ,\n",
            "         74.72941176, 74.22745098],\n",
            "        [ 0.33192748,  1.90360304,  1.57822736, ...,  1.74090336,\n",
            "          1.04866705,  0.77475036],\n",
            "        [ 0.82548703,  2.47685572,  2.4670284 , ...,  1.12364107,\n",
            "          3.17615874,  0.66906595],\n",
            "        ...,\n",
            "        [ 0.57673555,  2.17420672,  2.49015368, ...,  0.24303983,\n",
            "          1.68613008,  0.33930977],\n",
            "        [ 0.82548703,  2.47685572,  2.4670284 , ...,  1.12364107,\n",
            "          3.17615874,  0.66906595],\n",
            "        [ 0.33192748,  1.90360304,  1.57822736, ...,  1.74090336,\n",
            "          1.04866705,  0.77475036]]])\n",
            "ipdb> input_shape\n",
            "(150, 8)\n",
            "ipdb> num_classes\n",
            "6\n",
            "ipdb> c\n",
            "Model: \"sequential_1\"\n",
            "_________________________________________________________________\n",
            " Layer (type)                Output Shape              Param #   \n",
            "=================================================================\n",
            " conv1d_2 (Conv1D)           (None, 148, 32)           800       \n",
            "                                                                 \n",
            " max_pooling1d_2 (MaxPoolin  (None, 74, 32)            0         \n",
            " g1D)                                                            \n",
            "                                                                 \n",
            " conv1d_3 (Conv1D)           (None, 72, 64)            6208      \n",
            "                                                                 \n",
            " max_pooling1d_3 (MaxPoolin  (None, 36, 64)            0         \n",
            " g1D)                                                            \n",
            "                                                                 \n",
            " flatten_1 (Flatten)         (None, 2304)              0         \n",
            "                                                                 \n",
            " dense_2 (Dense)             (None, 128)               295040    \n",
            "                                                                 \n",
            " dense_3 (Dense)             (None, 6)                 774       \n",
            "                                                                 \n",
            "=================================================================\n",
            "Total params: 302822 (1.16 MB)\n",
            "Trainable params: 302822 (1.16 MB)\n",
            "Non-trainable params: 0 (0.00 Byte)\n",
            "_________________________________________________________________\n"
          ]
        }
      ]
    },
    {
      "cell_type": "code",
      "source": [
        "# Train the CNN model on the transformed training data for 10 epochs, using the transformed validation data for evaluation\n",
        "pdb.set_trace()  # Set a breakpoint for debugging\n",
        "history_ft = model_ft.fit(X_train_ft, y_train_ft, epochs=10, validation_data=(X_test_ft, y_test_ft))\n"
      ],
      "metadata": {
        "execution": {
          "iopub.status.busy": "2024-01-12T11:24:07.008347Z",
          "iopub.execute_input": "2024-01-12T11:24:07.008839Z",
          "iopub.status.idle": "2024-01-12T11:26:37.185176Z",
          "shell.execute_reply.started": "2024-01-12T11:24:07.008805Z",
          "shell.execute_reply": "2024-01-12T11:26:37.183984Z"
        },
        "trusted": true,
        "id": "Tlt_IiorudHg",
        "colab": {
          "base_uri": "https://localhost:8080/",
          "height": 0
        },
        "outputId": "92d74a70-d473-43da-aa87-1a1266ab3753"
      },
      "execution_count": 56,
      "outputs": [
        {
          "output_type": "stream",
          "name": "stdout",
          "text": [
            "--Return--\n",
            "None\n",
            "> \u001b[0;32m<ipython-input-56-c91f384c742c>\u001b[0m(2)\u001b[0;36m<cell line: 2>\u001b[0;34m()\u001b[0m\n",
            "\u001b[0;32m      1 \u001b[0;31m\u001b[0;31m# Train the CNN model on the transformed training data for 10 epochs, using the transformed validation data for evaluation\u001b[0m\u001b[0;34m\u001b[0m\u001b[0;34m\u001b[0m\u001b[0m\n",
            "\u001b[0m\u001b[0;32m----> 2 \u001b[0;31m\u001b[0mpdb\u001b[0m\u001b[0;34m.\u001b[0m\u001b[0mset_trace\u001b[0m\u001b[0;34m(\u001b[0m\u001b[0;34m)\u001b[0m  \u001b[0;31m# Set a breakpoint for debugging\u001b[0m\u001b[0;34m\u001b[0m\u001b[0;34m\u001b[0m\u001b[0m\n",
            "\u001b[0m\u001b[0;32m      3 \u001b[0;31m\u001b[0mhistory_ft\u001b[0m \u001b[0;34m=\u001b[0m \u001b[0mmodel_ft\u001b[0m\u001b[0;34m.\u001b[0m\u001b[0mfit\u001b[0m\u001b[0;34m(\u001b[0m\u001b[0mX_train_ft\u001b[0m\u001b[0;34m,\u001b[0m \u001b[0my_train_ft\u001b[0m\u001b[0;34m,\u001b[0m \u001b[0mepochs\u001b[0m\u001b[0;34m=\u001b[0m\u001b[0;36m10\u001b[0m\u001b[0;34m,\u001b[0m \u001b[0mvalidation_data\u001b[0m\u001b[0;34m=\u001b[0m\u001b[0;34m(\u001b[0m\u001b[0mX_test_ft\u001b[0m\u001b[0;34m,\u001b[0m \u001b[0my_test_ft\u001b[0m\u001b[0;34m)\u001b[0m\u001b[0;34m)\u001b[0m\u001b[0;34m\u001b[0m\u001b[0;34m\u001b[0m\u001b[0m\n",
            "\u001b[0m\n",
            "array([[[75.18823529, 75.07058824, 75.48627451, ..., 56.51372549,\n",
            "         70.82745098, 75.16078431],\n",
            "        [ 1.07017284,  0.98949651,  1.09555489, ..., 10.07125687,\n",
            "          3.32044611,  0.62826559],\n",
            "        [ 1.45868687,  0.4105095 ,  0.78586502, ..., 13.77989908,\n",
            "          1.72713401,  2.15827124],\n",
            "        ...,\n",
            "        [ 0.68355805,  0.86812561,  1.57849972, ...,  3.40079646,\n",
            "          1.75241488,  2.78489233],\n",
            "        [ 1.45868687,  0.4105095 ,  0.78586502, ..., 13.77989908,\n",
            "          1.72713401,  2.15827124],\n",
            "        [ 1.07017284,  0.98949651,  1.09555489, ..., 10.07125687,\n",
            "          3.32044611,  0.62826559]],\n",
            "\n",
            "       [[74.74117647, 74.37647059, 74.55294118, ..., 71.43921569,\n",
            "         71.81568627, 80.34901961],\n",
            "        [ 6.9970278 ,  1.70002967,  0.96518501, ...,  2.01754843,\n",
            "          1.61181191,  7.38650989],\n",
            "        [ 4.14561735,  5.06256215,  1.43991827, ...,  0.6452707 ,\n",
            "          2.5950258 ,  4.38928401],\n",
            "        ...,\n",
            "        [ 5.36059222,  2.10244738,  0.62519699, ...,  0.86607529,\n",
            "          1.09115059,  2.86669969],\n",
            "        [ 4.14561735,  5.06256215,  1.43991827, ...,  0.6452707 ,\n",
            "          2.5950258 ,  4.38928401],\n",
            "        [ 6.9970278 ,  1.70002967,  0.96518501, ...,  2.01754843,\n",
            "          1.61181191,  7.38650989]],\n",
            "\n",
            "       [[75.25490196, 74.11372549, 76.11764706, ..., 75.59215686,\n",
            "         71.17254902, 73.7254902 ],\n",
            "        [ 6.59340348,  2.84322723,  0.30715199, ...,  3.83275466,\n",
            "          3.18071631,  4.7108209 ],\n",
            "        [ 5.1978421 ,  2.78043867,  0.50530328, ...,  2.45841224,\n",
            "          3.92911225,  2.03650547],\n",
            "        ...,\n",
            "        [ 5.1322105 ,  0.89657743,  1.30310196, ...,  1.46218435,\n",
            "          0.5951281 ,  4.09079517],\n",
            "        [ 5.1978421 ,  2.78043867,  0.50530328, ...,  2.45841224,\n",
            "          3.92911225,  2.03650547],\n",
            "        [ 6.59340348,  2.84322723,  0.30715199, ...,  3.83275466,\n",
            "          3.18071631,  4.7108209 ]],\n",
            "\n",
            "       ...,\n",
            "\n",
            "       [[72.7254902 , 74.12941176, 77.10588235, ..., 73.17254902,\n",
            "         72.67058824, 73.2745098 ],\n",
            "        [ 0.9187527 ,  0.13644363,  2.93901184, ...,  1.98151671,\n",
            "          6.8695141 ,  2.74287826],\n",
            "        [ 1.21372941,  1.13634472,  2.74573565, ...,  1.3447876 ,\n",
            "          4.70354701,  1.32693137],\n",
            "        ...,\n",
            "        [ 0.61847279,  0.70655721,  1.72097994, ...,  1.00178704,\n",
            "          2.4692364 ,  0.99067937],\n",
            "        [ 1.21372941,  1.13634472,  2.74573565, ...,  1.3447876 ,\n",
            "          4.70354701,  1.32693137],\n",
            "        [ 0.9187527 ,  0.13644363,  2.93901184, ...,  1.98151671,\n",
            "          6.8695141 ,  2.74287826]],\n",
            "\n",
            "       [[74.10588235, 70.94117647, 75.25882353, ..., 74.43529412,\n",
            "         73.2627451 , 74.27843137],\n",
            "        [ 1.2604918 ,  6.19115737,  1.2636082 , ...,  1.89135179,\n",
            "          1.90836597,  3.23105175],\n",
            "        [ 0.76695713,  3.44101475,  0.56191982, ...,  1.57006968,\n",
            "          0.14113021,  1.92711679],\n",
            "        ...,\n",
            "        [ 1.63496124,  1.79766009,  0.18887675, ...,  1.36774554,\n",
            "          0.66163536,  1.59270832],\n",
            "        [ 0.76695713,  3.44101475,  0.56191982, ...,  1.57006968,\n",
            "          0.14113021,  1.92711679],\n",
            "        [ 1.2604918 ,  6.19115737,  1.2636082 , ...,  1.89135179,\n",
            "          1.90836597,  3.23105175]],\n",
            "\n",
            "       [[73.43529412, 74.08627451, 73.03921569, ..., 74.9372549 ,\n",
            "         74.72941176, 74.22745098],\n",
            "        [ 0.33192748,  1.90360304,  1.57822736, ...,  1.74090336,\n",
            "          1.04866705,  0.77475036],\n",
            "        [ 0.82548703,  2.47685572,  2.4670284 , ...,  1.12364107,\n",
            "          3.17615874,  0.66906595],\n",
            "        ...,\n",
            "        [ 0.57673555,  2.17420672,  2.49015368, ...,  0.24303983,\n",
            "          1.68613008,  0.33930977],\n",
            "        [ 0.82548703,  2.47685572,  2.4670284 , ...,  1.12364107,\n",
            "          3.17615874,  0.66906595],\n",
            "        [ 0.33192748,  1.90360304,  1.57822736, ...,  1.74090336,\n",
            "          1.04866705,  0.77475036]]])\n",
            "Epoch 1/10\n",
            "1250/1250 [==============================] - 17s 13ms/step - loss: 0.4190 - accuracy: 0.8494 - val_loss: 0.3812 - val_accuracy: 0.8602\n",
            "Epoch 2/10\n",
            "1250/1250 [==============================] - 17s 14ms/step - loss: 0.3560 - accuracy: 0.8707 - val_loss: 0.3594 - val_accuracy: 0.8693\n",
            "Epoch 3/10\n",
            "1250/1250 [==============================] - 16s 13ms/step - loss: 0.3210 - accuracy: 0.8857 - val_loss: 0.3211 - val_accuracy: 0.8846\n",
            "Epoch 4/10\n",
            "1250/1250 [==============================] - 16s 13ms/step - loss: 0.2935 - accuracy: 0.8954 - val_loss: 0.2959 - val_accuracy: 0.8958\n",
            "Epoch 5/10\n",
            "1250/1250 [==============================] - 18s 14ms/step - loss: 0.2666 - accuracy: 0.9049 - val_loss: 0.3103 - val_accuracy: 0.8876\n",
            "Epoch 6/10\n",
            "1250/1250 [==============================] - 17s 14ms/step - loss: 0.2366 - accuracy: 0.9154 - val_loss: 0.2807 - val_accuracy: 0.9002\n",
            "Epoch 7/10\n",
            "1250/1250 [==============================] - 17s 13ms/step - loss: 0.2070 - accuracy: 0.9260 - val_loss: 0.2797 - val_accuracy: 0.9033\n",
            "Epoch 8/10\n",
            "1250/1250 [==============================] - 18s 14ms/step - loss: 0.1772 - accuracy: 0.9351 - val_loss: 0.2606 - val_accuracy: 0.9092\n",
            "Epoch 9/10\n",
            "1250/1250 [==============================] - 18s 14ms/step - loss: 0.1546 - accuracy: 0.9442 - val_loss: 0.2521 - val_accuracy: 0.9149\n",
            "Epoch 10/10\n",
            "1250/1250 [==============================] - 18s 14ms/step - loss: 0.1324 - accuracy: 0.9521 - val_loss: 0.2686 - val_accuracy: 0.9139\n"
          ]
        }
      ]
    },
    {
      "cell_type": "code",
      "source": [
        "from sklearn.metrics import accuracy_score, f1_score\n",
        "\n",
        "pdb.set_trace()  # Set a breakpoint for debugging\n",
        "# Make predictions on training data\n",
        "y_pred_train_ft = model_ft.predict(X_train_ft)\n",
        "y_pred_train_ft = np.argmax(y_pred_train_ft, axis=1)  # Convert predictions from one-hot encoding to class labels\n",
        "\n",
        "# Make predictions on test data\n",
        "y_pred_test_ft = model_ft.predict(X_test_ft)\n",
        "y_pred_test_ft = np.argmax(y_pred_test_ft, axis=1)  # Convert predictions from one-hot encoding to class labels\n",
        "\n",
        "# Calculate accuracy\n",
        "accuracy_training_ft = accuracy_score(y_train_ft, y_pred_train_ft)  # Calculate accuracy on training data\n",
        "accuracy_test_ft= accuracy_score(y_test_ft, y_pred_test_ft)  # Calculate accuracy on test data\n",
        "\n",
        "# Calculate F1 score\n",
        "f1_training_ft = f1_score(y_train_ft, y_pred_train_ft, average='weighted')  # Calculate F1 score on training data\n",
        "f1_test_ft = f1_score(y_test_ft, y_pred_test_ft, average='weighted')  # Calculate F1 score on test data\n",
        "\n",
        "# Print accuracy and F1 score\n",
        "print(\"Training Accuracy FT:\", accuracy_training_ft)  # Print training accuracy\n",
        "print(\"Test Accuracy FT:\", accuracy_test_ft)  # Print test accuracy\n",
        "print(\"Training F1 Score FT:\", f1_training_ft)  # Print training F1 score\n",
        "print(\"Test F1 Score FT:\", f1_test_ft)  # Print test F1 score\n"
      ],
      "metadata": {
        "execution": {
          "iopub.status.busy": "2024-01-12T11:26:37.187746Z",
          "iopub.execute_input": "2024-01-12T11:26:37.188141Z",
          "iopub.status.idle": "2024-01-12T11:26:46.143805Z",
          "shell.execute_reply.started": "2024-01-12T11:26:37.188107Z",
          "shell.execute_reply": "2024-01-12T11:26:46.142139Z"
        },
        "trusted": true,
        "id": "s8yjtiFCudHg",
        "colab": {
          "base_uri": "https://localhost:8080/",
          "height": 0
        },
        "outputId": "3dc081bf-7e0c-41e5-d975-51023f7473db"
      },
      "execution_count": 57,
      "outputs": [
        {
          "output_type": "stream",
          "name": "stdout",
          "text": [
            "--Return--\n",
            "None\n",
            "> \u001b[0;32m<ipython-input-57-231fb8168226>\u001b[0m(3)\u001b[0;36m<cell line: 3>\u001b[0;34m()\u001b[0m\n",
            "\u001b[0;32m      1 \u001b[0;31m\u001b[0;32mfrom\u001b[0m \u001b[0msklearn\u001b[0m\u001b[0;34m.\u001b[0m\u001b[0mmetrics\u001b[0m \u001b[0;32mimport\u001b[0m \u001b[0maccuracy_score\u001b[0m\u001b[0;34m,\u001b[0m \u001b[0mf1_score\u001b[0m\u001b[0;34m\u001b[0m\u001b[0;34m\u001b[0m\u001b[0m\n",
            "\u001b[0m\u001b[0;32m      2 \u001b[0;31m\u001b[0;34m\u001b[0m\u001b[0m\n",
            "\u001b[0m\u001b[0;32m----> 3 \u001b[0;31m\u001b[0mpdb\u001b[0m\u001b[0;34m.\u001b[0m\u001b[0mset_trace\u001b[0m\u001b[0;34m(\u001b[0m\u001b[0;34m)\u001b[0m  \u001b[0;31m# Set a breakpoint for debugging\u001b[0m\u001b[0;34m\u001b[0m\u001b[0;34m\u001b[0m\u001b[0m\n",
            "\u001b[0m\u001b[0;32m      4 \u001b[0;31m\u001b[0;31m# Make predictions on training data\u001b[0m\u001b[0;34m\u001b[0m\u001b[0;34m\u001b[0m\u001b[0m\n",
            "\u001b[0m\u001b[0;32m      5 \u001b[0;31m\u001b[0my_pred_train_ft\u001b[0m \u001b[0;34m=\u001b[0m \u001b[0mmodel_ft\u001b[0m\u001b[0;34m.\u001b[0m\u001b[0mpredict\u001b[0m\u001b[0;34m(\u001b[0m\u001b[0mX_train_ft\u001b[0m\u001b[0;34m)\u001b[0m\u001b[0;34m\u001b[0m\u001b[0;34m\u001b[0m\u001b[0m\n",
            "\u001b[0m\n",
            "ipdb> X_test_ft\n",
            "array([[[8.08117647e+01, 7.53568627e+01, 7.34980392e+01, ...,\n",
            "         7.95921569e+01, 7.48745098e+01, 7.82705882e+01],\n",
            "        [2.02781593e+00, 5.56046189e-01, 1.85804942e+00, ...,\n",
            "         1.11515700e+01, 1.29822947e+01, 2.14942372e+00],\n",
            "        [2.63529675e+00, 3.41546781e-01, 2.89897688e-01, ...,\n",
            "         3.58270647e+00, 7.24101373e+00, 1.02390456e+00],\n",
            "        ...,\n",
            "        [1.03740764e+00, 5.34686270e-01, 1.24111327e+00, ...,\n",
            "         6.61745779e+00, 4.62831239e+00, 2.02964007e+00],\n",
            "        [2.63529675e+00, 3.41546781e-01, 2.89897688e-01, ...,\n",
            "         3.58270647e+00, 7.24101373e+00, 1.02390456e+00],\n",
            "        [2.02781593e+00, 5.56046189e-01, 1.85804942e+00, ...,\n",
            "         1.11515700e+01, 1.29822947e+01, 2.14942372e+00]],\n",
            "\n",
            "       [[7.51450980e+01, 7.70941176e+01, 7.46313725e+01, ...,\n",
            "         7.53529412e+01, 7.62784314e+01, 7.69882353e+01],\n",
            "        [4.97131629e+00, 1.86635447e+00, 1.71893010e+00, ...,\n",
            "         1.34905817e+00, 5.17151001e-01, 7.19208800e+00],\n",
            "        [2.25972762e+00, 8.88778553e-01, 1.24318408e+00, ...,\n",
            "         1.88786963e+00, 1.70091005e+00, 9.70077289e-01],\n",
            "        ...,\n",
            "        [1.95561886e+00, 6.31110171e-01, 1.23025361e+00, ...,\n",
            "         2.21412411e+00, 4.85734325e+00, 4.29528076e+00],\n",
            "        [2.25972762e+00, 8.88778553e-01, 1.24318408e+00, ...,\n",
            "         1.88786963e+00, 1.70091005e+00, 9.70077289e-01],\n",
            "        [4.97131629e+00, 1.86635447e+00, 1.71893010e+00, ...,\n",
            "         1.34905817e+00, 5.17151001e-01, 7.19208800e+00]],\n",
            "\n",
            "       [[7.45843137e+01, 7.45921569e+01, 7.43725490e+01, ...,\n",
            "         7.45960784e+01, 7.47490196e+01, 7.46352941e+01],\n",
            "        [6.58741822e-02, 2.09341087e-01, 1.01329090e+00, ...,\n",
            "         2.27430928e-01, 3.46394996e-01, 3.27496994e-01],\n",
            "        [1.98028588e-01, 3.89053880e-01, 8.84708439e-01, ...,\n",
            "         2.52561097e-01, 1.64406037e-01, 3.29555947e-01],\n",
            "        ...,\n",
            "        [2.14337937e-01, 1.62706058e-01, 7.80076847e-01, ...,\n",
            "         2.61660278e-01, 3.54771600e-01, 1.17318689e-01],\n",
            "        [1.98028588e-01, 3.89053880e-01, 8.84708439e-01, ...,\n",
            "         2.52561097e-01, 1.64406037e-01, 3.29555947e-01],\n",
            "        [6.58741822e-02, 2.09341087e-01, 1.01329090e+00, ...,\n",
            "         2.27430928e-01, 3.46394996e-01, 3.27496994e-01]],\n",
            "\n",
            "       ...,\n",
            "\n",
            "       [[7.01333333e+01, 7.02549020e+01, 6.96627451e+01, ...,\n",
            "         7.61058824e+01, 7.52470588e+01, 7.45058824e+01],\n",
            "        [2.99594628e+00, 1.37465876e+00, 2.21199253e+00, ...,\n",
            "         3.38962399e-01, 9.41540251e-01, 3.15175773e+00],\n",
            "        [7.15476094e+00, 1.82916071e+00, 4.36702043e+00, ...,\n",
            "         1.55715629e+00, 7.84464985e-01, 8.01174188e+00],\n",
            "        ...,\n",
            "        [1.79223676e+00, 6.40222618e-01, 1.38670907e+00, ...,\n",
            "         5.88811757e-01, 6.75015830e-01, 5.06077899e+00],\n",
            "        [7.15476094e+00, 1.82916071e+00, 4.36702043e+00, ...,\n",
            "         1.55715629e+00, 7.84464985e-01, 8.01174188e+00],\n",
            "        [2.99594628e+00, 1.37465876e+00, 2.21199253e+00, ...,\n",
            "         3.38962399e-01, 9.41540251e-01, 3.15175773e+00]],\n",
            "\n",
            "       [[7.00196078e+01, 8.13882353e+01, 7.43921569e+01, ...,\n",
            "         8.06235294e+01, 7.44431373e+01, 7.04862745e+01],\n",
            "        [3.93543468e+00, 7.38833815e+00, 2.23894014e+00, ...,\n",
            "         5.82465800e+00, 4.33845101e+00, 1.39235132e+00],\n",
            "        [1.40129143e+01, 1.70053519e+01, 4.57615935e+00, ...,\n",
            "         3.41648058e+00, 2.46335520e+00, 5.04447014e+00],\n",
            "        ...,\n",
            "        [8.90942144e+00, 1.31352877e+00, 4.21383235e+00, ...,\n",
            "         2.35852809e+00, 1.39586837e+00, 2.01034045e+00],\n",
            "        [1.40129143e+01, 1.70053519e+01, 4.57615935e+00, ...,\n",
            "         3.41648058e+00, 2.46335520e+00, 5.04447014e+00],\n",
            "        [3.93543468e+00, 7.38833815e+00, 2.23894014e+00, ...,\n",
            "         5.82465800e+00, 4.33845101e+00, 1.39235132e+00]],\n",
            "\n",
            "       [[7.50313725e+01, 7.60705882e+01, 7.43058824e+01, ...,\n",
            "         7.24039216e+01, 7.50509804e+01, 7.49137255e+01],\n",
            "        [6.77756785e+00, 5.90981004e-01, 1.44847710e+00, ...,\n",
            "         1.26159954e+00, 3.14700099e+00, 3.94054475e+00],\n",
            "        [3.20031185e+00, 2.70531087e+00, 8.20825343e-01, ...,\n",
            "         1.33915192e+00, 1.41242355e+00, 2.76115973e+00],\n",
            "        ...,\n",
            "        [2.49641577e+00, 8.78169310e-01, 8.68641141e-01, ...,\n",
            "         2.46969794e+00, 6.45777510e-01, 1.15811816e+00],\n",
            "        [3.20031185e+00, 2.70531087e+00, 8.20825343e-01, ...,\n",
            "         1.33915192e+00, 1.41242355e+00, 2.76115973e+00],\n",
            "        [6.77756785e+00, 5.90981004e-01, 1.44847710e+00, ...,\n",
            "         1.26159954e+00, 3.14700099e+00, 3.94054475e+00]]])\n",
            "ipdb> c\n",
            "1250/1250 [==============================] - 5s 4ms/step\n",
            "313/313 [==============================] - 1s 4ms/step\n",
            "Training Accuracy FT: 0.9586950539140877\n",
            "Test Accuracy FT: 0.9139397578304813\n",
            "Training F1 Score FT: 0.9586877936861451\n",
            "Test F1 Score FT: 0.9138368214200779\n"
          ]
        }
      ]
    },
    {
      "cell_type": "code",
      "source": [
        "from sklearn.metrics import confusion_matrix\n",
        "import seaborn as sns\n",
        "pdb.set_trace()  # Set a breakpoint for debugging\n",
        "# Generate confusion matrix\n",
        "cm_ft = confusion_matrix(y_test, y_pred_test_ft)\n",
        "\n",
        "# Plot confusion matrix\n",
        "plt.figure(figsize=(6, 6))  # Set the figure size\n",
        "sns.heatmap(cm_ft, annot=True, fmt=\"d\", cmap=\"Blues\", xticklabels=np.unique(y_test), yticklabels=np.unique(y_test))\n",
        "# Create heatmap of confusion matrix with annotations and blue color map, with x and y labels representing unique class labels\n",
        "plt.title('Confusion Matrix FT')  # Set the title of the plot\n",
        "plt.xlabel('Predicted Labels FT')  # Set the label for the x-axis\n",
        "plt.ylabel('Real Labels FT')  # Set the label for the y-axis\n",
        "plt.show()  # Display the plot\n"
      ],
      "metadata": {
        "colab": {
          "base_uri": "https://localhost:8080/",
          "height": 772
        },
        "id": "PvFIaFDz0VLe",
        "outputId": "e4de2c54-70d4-4fff-cc9c-b9a4b919dd50"
      },
      "execution_count": 60,
      "outputs": [
        {
          "name": "stdout",
          "output_type": "stream",
          "text": [
            "--Return--\n",
            "None\n",
            "> \u001b[0;32m<ipython-input-60-a49f780c9a14>\u001b[0m(3)\u001b[0;36m<cell line: 3>\u001b[0;34m()\u001b[0m\n",
            "\u001b[0;32m      1 \u001b[0;31m\u001b[0;32mfrom\u001b[0m \u001b[0msklearn\u001b[0m\u001b[0;34m.\u001b[0m\u001b[0mmetrics\u001b[0m \u001b[0;32mimport\u001b[0m \u001b[0mconfusion_matrix\u001b[0m\u001b[0;34m\u001b[0m\u001b[0;34m\u001b[0m\u001b[0m\n",
            "\u001b[0m\u001b[0;32m      2 \u001b[0;31m\u001b[0;32mimport\u001b[0m \u001b[0mseaborn\u001b[0m \u001b[0;32mas\u001b[0m \u001b[0msns\u001b[0m\u001b[0;34m\u001b[0m\u001b[0;34m\u001b[0m\u001b[0m\n",
            "\u001b[0m\u001b[0;32m----> 3 \u001b[0;31m\u001b[0mpdb\u001b[0m\u001b[0;34m.\u001b[0m\u001b[0mset_trace\u001b[0m\u001b[0;34m(\u001b[0m\u001b[0;34m)\u001b[0m  \u001b[0;31m# Set a breakpoint for debugging\u001b[0m\u001b[0;34m\u001b[0m\u001b[0;34m\u001b[0m\u001b[0m\n",
            "\u001b[0m\u001b[0;32m      4 \u001b[0;31m\u001b[0;31m# Generate confusion matrix\u001b[0m\u001b[0;34m\u001b[0m\u001b[0;34m\u001b[0m\u001b[0m\n",
            "\u001b[0m\u001b[0;32m      5 \u001b[0;31m\u001b[0mcm_ft\u001b[0m \u001b[0;34m=\u001b[0m \u001b[0mconfusion_matrix\u001b[0m\u001b[0;34m(\u001b[0m\u001b[0my_test\u001b[0m\u001b[0;34m,\u001b[0m \u001b[0my_pred_test_ft\u001b[0m\u001b[0;34m)\u001b[0m\u001b[0;34m\u001b[0m\u001b[0;34m\u001b[0m\u001b[0m\n",
            "\u001b[0m\n",
            "ipdb> y_test,y_pred_test_ft\n",
            "(array([1, 2, 0, ..., 1, 2, 2]), array([1, 2, 0, ..., 1, 2, 2]))\n",
            "ipdb> c\n"
          ]
        },
        {
          "output_type": "display_data",
          "data": {
            "text/plain": [
              "<Figure size 600x600 with 2 Axes>"
            ],
            "image/png": "[encoded data removed]"
          },
          "metadata": {}
        }
      ]
    },
    {
      "cell_type": "code",
      "source": [
        "from sklearn.metrics import classification_report\n",
        "pdb.set_trace()  # Set a breakpoint for debugging\n",
        "# Generate classification report including accuracy and F1 score for each class\n",
        "report_ft = classification_report(y_test, y_pred_test_ft, target_names=[str(label) for label in np.unique(y_test)])\n",
        "\n",
        "# Print the classification report\n",
        "print(report_ft)\n"
      ],
      "metadata": {
        "execution": {
          "iopub.status.busy": "2024-01-12T11:26:47.135246Z",
          "iopub.execute_input": "2024-01-12T11:26:47.135698Z",
          "iopub.status.idle": "2024-01-12T11:26:47.1736Z",
          "shell.execute_reply.started": "2024-01-12T11:26:47.135663Z",
          "shell.execute_reply": "2024-01-12T11:26:47.172138Z"
        },
        "trusted": true,
        "id": "tnHPVL8YudHh",
        "colab": {
          "base_uri": "https://localhost:8080/",
          "height": 0
        },
        "outputId": "24b97f4c-1a38-4cc8-d2e4-c76478a296ac"
      },
      "execution_count": 63,
      "outputs": [
        {
          "output_type": "stream",
          "name": "stdout",
          "text": [
            "--Return--\n",
            "None\n",
            "> \u001b[0;32m<ipython-input-63-845a60ba4f8b>\u001b[0m(2)\u001b[0;36m<cell line: 2>\u001b[0;34m()\u001b[0m\n",
            "\u001b[0;32m      1 \u001b[0;31m\u001b[0;32mfrom\u001b[0m \u001b[0msklearn\u001b[0m\u001b[0;34m.\u001b[0m\u001b[0mmetrics\u001b[0m \u001b[0;32mimport\u001b[0m \u001b[0mclassification_report\u001b[0m\u001b[0;34m\u001b[0m\u001b[0;34m\u001b[0m\u001b[0m\n",
            "\u001b[0m\u001b[0;32m----> 2 \u001b[0;31m\u001b[0mpdb\u001b[0m\u001b[0;34m.\u001b[0m\u001b[0mset_trace\u001b[0m\u001b[0;34m(\u001b[0m\u001b[0;34m)\u001b[0m  \u001b[0;31m# Set a breakpoint for debugging\u001b[0m\u001b[0;34m\u001b[0m\u001b[0;34m\u001b[0m\u001b[0m\n",
            "\u001b[0m\u001b[0;32m      3 \u001b[0;31m\u001b[0;31m# Generate classification report including accuracy and F1 score for each class\u001b[0m\u001b[0;34m\u001b[0m\u001b[0;34m\u001b[0m\u001b[0m\n",
            "\u001b[0m\u001b[0;32m      4 \u001b[0;31m\u001b[0mreport_ft\u001b[0m \u001b[0;34m=\u001b[0m \u001b[0mclassification_report\u001b[0m\u001b[0;34m(\u001b[0m\u001b[0my_test\u001b[0m\u001b[0;34m,\u001b[0m \u001b[0my_pred_test_ft\u001b[0m\u001b[0;34m,\u001b[0m \u001b[0mtarget_names\u001b[0m\u001b[0;34m=\u001b[0m\u001b[0;34m[\u001b[0m\u001b[0mstr\u001b[0m\u001b[0;34m(\u001b[0m\u001b[0mlabel\u001b[0m\u001b[0;34m)\u001b[0m \u001b[0;32mfor\u001b[0m \u001b[0mlabel\u001b[0m \u001b[0;32min\u001b[0m \u001b[0mnp\u001b[0m\u001b[0;34m.\u001b[0m\u001b[0munique\u001b[0m\u001b[0;34m(\u001b[0m\u001b[0my_test\u001b[0m\u001b[0;34m)\u001b[0m\u001b[0;34m]\u001b[0m\u001b[0;34m)\u001b[0m\u001b[0;34m\u001b[0m\u001b[0;34m\u001b[0m\u001b[0m\n",
            "\u001b[0m\u001b[0;32m      5 \u001b[0;31m\u001b[0;34m\u001b[0m\u001b[0m\n",
            "\u001b[0m\n",
            "ipdb> y_test,y_pred_test_ft\n",
            "(array([1, 2, 0, ..., 1, 2, 2]), array([1, 2, 0, ..., 1, 2, 2]))\n",
            "ipdb> c\n",
            "              precision    recall  f1-score   support\n",
            "\n",
            "           0       0.99      0.93      0.96      1629\n",
            "           1       0.91      0.98      0.95      1698\n",
            "           2       0.92      0.88      0.90      1623\n",
            "           3       0.88      0.89      0.89      1706\n",
            "           4       0.89      0.93      0.91      1691\n",
            "           5       0.90      0.87      0.88      1646\n",
            "\n",
            "    accuracy                           0.91      9993\n",
            "   macro avg       0.92      0.91      0.91      9993\n",
            "weighted avg       0.91      0.91      0.91      9993\n",
            "\n"
          ]
        }
      ]
    },
    {
      "cell_type": "markdown",
      "source": [
        "# ***Root Mean Square (RMS) - CNN3***"
      ],
      "metadata": {
        "id": "QfmE1x951Ulb"
      }
    },
    {
      "cell_type": "code",
      "source": [
        "# Set a breakpoint for debugging\n",
        "pdb.set_trace()\n",
        "\n",
        "# Print the shape of X\n",
        "print(X.shape)\n"
      ],
      "metadata": {
        "execution": {
          "iopub.status.busy": "2024-01-12T11:40:52.066562Z",
          "iopub.execute_input": "2024-01-12T11:40:52.066992Z",
          "iopub.status.idle": "2024-01-12T11:40:52.074958Z",
          "shell.execute_reply.started": "2024-01-12T11:40:52.066959Z",
          "shell.execute_reply": "2024-01-12T11:40:52.073604Z"
        },
        "trusted": true,
        "id": "OJG3Nxm11Ulc",
        "colab": {
          "base_uri": "https://localhost:8080/",
          "height": 0
        },
        "outputId": "ada9ec0a-2cae-4225-d441-c18ee65b3f74"
      },
      "execution_count": 70,
      "outputs": [
        {
          "output_type": "stream",
          "name": "stdout",
          "text": [
            "--Return--\n",
            "None\n",
            "> \u001b[0;32m<ipython-input-70-0f35d71973ea>\u001b[0m(2)\u001b[0;36m<cell line: 2>\u001b[0;34m()\u001b[0m\n",
            "\u001b[0;32m      1 \u001b[0;31m\u001b[0;31m# Set a breakpoint for debugging\u001b[0m\u001b[0;34m\u001b[0m\u001b[0;34m\u001b[0m\u001b[0m\n",
            "\u001b[0m\u001b[0;32m----> 2 \u001b[0;31m\u001b[0mpdb\u001b[0m\u001b[0;34m.\u001b[0m\u001b[0mset_trace\u001b[0m\u001b[0;34m(\u001b[0m\u001b[0;34m)\u001b[0m\u001b[0;34m\u001b[0m\u001b[0;34m\u001b[0m\u001b[0m\n",
            "\u001b[0m\u001b[0;32m      3 \u001b[0;31m\u001b[0;34m\u001b[0m\u001b[0m\n",
            "\u001b[0m\u001b[0;32m      4 \u001b[0;31m\u001b[0;31m# Print the shape of X\u001b[0m\u001b[0;34m\u001b[0m\u001b[0;34m\u001b[0m\u001b[0m\n",
            "\u001b[0m\u001b[0;32m      5 \u001b[0;31m\u001b[0mprint\u001b[0m\u001b[0;34m(\u001b[0m\u001b[0mX\u001b[0m\u001b[0;34m.\u001b[0m\u001b[0mshape\u001b[0m\u001b[0;34m)\u001b[0m\u001b[0;34m\u001b[0m\u001b[0;34m\u001b[0m\u001b[0m\n",
            "\u001b[0m\n",
            "ipdb> \n",
            "ipdb> c\n",
            "(49964, 150, 8)\n"
          ]
        }
      ]
    },
    {
      "cell_type": "code",
      "source": [
        "import numpy as np\n",
        "pdb.set_trace()  # Set a breakpoint for debugging\n",
        "\n",
        "# Apply Root Mean Square (RMS) calculation across each sample in X\n",
        "rms_data = np.sqrt(np.mean(np.square(X), axis=1))\n",
        "c"
      ],
      "metadata": {
        "execution": {
          "iopub.status.busy": "2024-01-12T11:41:18.337066Z",
          "iopub.execute_input": "2024-01-12T11:41:18.337529Z",
          "iopub.status.idle": "2024-01-12T11:41:18.758358Z",
          "shell.execute_reply.started": "2024-01-12T11:41:18.337495Z",
          "shell.execute_reply": "2024-01-12T11:41:18.756125Z"
        },
        "trusted": true,
        "id": "-zzOJKj_1Ulc",
        "colab": {
          "base_uri": "https://localhost:8080/",
          "height": 0
        },
        "outputId": "038f09e1-7ea1-4209-b4ae-45e3fd4f92dc"
      },
      "execution_count": 71,
      "outputs": [
        {
          "name": "stdout",
          "output_type": "stream",
          "text": [
            "--Return--\n",
            "None\n",
            "> \u001b[0;32m<ipython-input-71-623ad5eec349>\u001b[0m(2)\u001b[0;36m<cell line: 2>\u001b[0;34m()\u001b[0m\n",
            "\u001b[0;32m      1 \u001b[0;31m\u001b[0;32mimport\u001b[0m \u001b[0mnumpy\u001b[0m \u001b[0;32mas\u001b[0m \u001b[0mnp\u001b[0m\u001b[0;34m\u001b[0m\u001b[0;34m\u001b[0m\u001b[0m\n",
            "\u001b[0m\u001b[0;32m----> 2 \u001b[0;31m\u001b[0mpdb\u001b[0m\u001b[0;34m.\u001b[0m\u001b[0mset_trace\u001b[0m\u001b[0;34m(\u001b[0m\u001b[0;34m)\u001b[0m  \u001b[0;31m# Set a breakpoint for debugging\u001b[0m\u001b[0;34m\u001b[0m\u001b[0;34m\u001b[0m\u001b[0m\n",
            "\u001b[0m\u001b[0;32m      3 \u001b[0;31m\u001b[0;34m\u001b[0m\u001b[0m\n",
            "\u001b[0m\u001b[0;32m      4 \u001b[0;31m\u001b[0;31m# Apply Root Mean Square (RMS) calculation across each sample in X\u001b[0m\u001b[0;34m\u001b[0m\u001b[0;34m\u001b[0m\u001b[0m\n",
            "\u001b[0m\u001b[0;32m      5 \u001b[0;31m\u001b[0mrms_data\u001b[0m \u001b[0;34m=\u001b[0m \u001b[0mnp\u001b[0m\u001b[0;34m.\u001b[0m\u001b[0msqrt\u001b[0m\u001b[0;34m(\u001b[0m\u001b[0mnp\u001b[0m\u001b[0;34m.\u001b[0m\u001b[0mmean\u001b[0m\u001b[0;34m(\u001b[0m\u001b[0mnp\u001b[0m\u001b[0;34m.\u001b[0m\u001b[0msquare\u001b[0m\u001b[0;34m(\u001b[0m\u001b[0mX\u001b[0m\u001b[0;34m)\u001b[0m\u001b[0;34m,\u001b[0m \u001b[0maxis\u001b[0m\u001b[0;34m=\u001b[0m\u001b[0;36m1\u001b[0m\u001b[0;34m)\u001b[0m\u001b[0;34m)\u001b[0m\u001b[0;34m\u001b[0m\u001b[0;34m\u001b[0m\u001b[0m\n",
            "\u001b[0m\n",
            "ipdb> X\n",
            "array([[[0.49803922, 0.50196078, 0.49803922, ..., 0.49803922,\n",
            "         0.49803922, 0.50588235],\n",
            "        [0.49803922, 0.49411765, 0.50196078, ..., 0.49803922,\n",
            "         0.49019608, 0.49411765],\n",
            "        [0.49803922, 0.49411765, 0.50196078, ..., 0.49803922,\n",
            "         0.49019608, 0.49411765],\n",
            "        ...,\n",
            "        [0.49411765, 0.50196078, 0.49411765, ..., 0.49803922,\n",
            "         0.49803922, 0.50588235],\n",
            "        [0.49019608, 0.48235294, 0.49803922, ..., 0.49803922,\n",
            "         0.49803922, 0.49803922],\n",
            "        [0.49019608, 0.48235294, 0.49803922, ..., 0.49803922,\n",
            "         0.49803922, 0.49803922]],\n",
            "\n",
            "       [[0.49803922, 0.49803922, 0.49411765, ..., 0.49803922,\n",
            "         0.49411765, 0.49803922],\n",
            "        [0.49803922, 0.49803922, 0.49411765, ..., 0.49803922,\n",
            "         0.49411765, 0.49803922],\n",
            "        [0.49411765, 0.49411765, 0.49411765, ..., 0.50588235,\n",
            "         0.49411765, 0.49803922],\n",
            "        ...,\n",
            "        [0.49019608, 0.50196078, 0.50980392, ..., 0.50196078,\n",
            "         0.49803922, 0.49803922],\n",
            "        [0.49019608, 0.50196078, 0.50980392, ..., 0.50196078,\n",
            "         0.49803922, 0.49803922],\n",
            "        [0.49019608, 0.50196078, 0.50980392, ..., 0.50196078,\n",
            "         0.49803922, 0.49803922]],\n",
            "\n",
            "       [[0.49803922, 0.49803922, 0.49411765, ..., 0.49803922,\n",
            "         0.50196078, 0.49803922],\n",
            "        [0.49803922, 0.49803922, 0.49411765, ..., 0.49803922,\n",
            "         0.50196078, 0.49803922],\n",
            "        [0.49803922, 0.49803922, 0.49411765, ..., 0.49803922,\n",
            "         0.50196078, 0.49803922],\n",
            "        ...,\n",
            "        [0.49803922, 0.50588235, 0.49411765, ..., 0.50588235,\n",
            "         0.49803922, 0.50196078],\n",
            "        [0.49803922, 0.50588235, 0.49411765, ..., 0.50588235,\n",
            "         0.49803922, 0.50196078],\n",
            "        [0.49803922, 0.50588235, 0.49411765, ..., 0.50588235,\n",
            "         0.49803922, 0.50196078]],\n",
            "\n",
            "       ...,\n",
            "\n",
            "       [[0.52941176, 0.52156863, 0.49803922, ..., 0.43529412,\n",
            "         0.48235294, 0.51764706],\n",
            "        [0.52941176, 0.52156863, 0.49803922, ..., 0.43529412,\n",
            "         0.48235294, 0.51764706],\n",
            "        [0.52941176, 0.52156863, 0.49803922, ..., 0.43529412,\n",
            "         0.48235294, 0.51764706],\n",
            "        ...,\n",
            "        [0.51372549, 0.49019608, 0.48235294, ..., 0.50588235,\n",
            "         0.53333333, 0.44705882],\n",
            "        [0.51372549, 0.49019608, 0.48235294, ..., 0.50588235,\n",
            "         0.53333333, 0.44705882],\n",
            "        [0.51372549, 0.49019608, 0.48235294, ..., 0.50588235,\n",
            "         0.53333333, 0.44705882]],\n",
            "\n",
            "       [[0.43529412, 0.49019608, 0.49019608, ..., 0.57647059,\n",
            "         0.50196078, 0.49019608],\n",
            "        [0.48627451, 0.51372549, 0.49803922, ..., 0.56470588,\n",
            "         0.54901961, 0.43921569],\n",
            "        [0.48627451, 0.51372549, 0.49803922, ..., 0.56470588,\n",
            "         0.54901961, 0.43921569],\n",
            "        ...,\n",
            "        [0.52156863, 0.50980392, 0.50980392, ..., 0.41176471,\n",
            "         0.47058824, 0.51372549],\n",
            "        [0.52156863, 0.50980392, 0.50980392, ..., 0.41176471,\n",
            "         0.47058824, 0.51372549],\n",
            "        [0.52156863, 0.50980392, 0.50980392, ..., 0.41176471,\n",
            "         0.47058824, 0.51372549]],\n",
            "\n",
            "       [[0.5254902 , 0.49803922, 0.49803922, ..., 0.50980392,\n",
            "         0.51764706, 0.52941176],\n",
            "        [0.5254902 , 0.49803922, 0.49803922, ..., 0.50980392,\n",
            "         0.51764706, 0.52941176],\n",
            "        [0.5254902 , 0.49803922, 0.49803922, ..., 0.50980392,\n",
            "         0.51764706, 0.52941176],\n",
            "        ...,\n",
            "        [0.5372549 , 0.50588235, 0.51372549, ..., 0.47058824,\n",
            "         0.51764706, 0.50196078],\n",
            "        [0.5372549 , 0.50588235, 0.51372549, ..., 0.47058824,\n",
            "         0.51764706, 0.50196078],\n",
            "        [0.5372549 , 0.50588235, 0.51372549, ..., 0.47058824,\n",
            "         0.51764706, 0.50196078]]])\n",
            "ipdb> \n",
            "array([[[0.49803922, 0.50196078, 0.49803922, ..., 0.49803922,\n",
            "         0.49803922, 0.50588235],\n",
            "        [0.49803922, 0.49411765, 0.50196078, ..., 0.49803922,\n",
            "         0.49019608, 0.49411765],\n",
            "        [0.49803922, 0.49411765, 0.50196078, ..., 0.49803922,\n",
            "         0.49019608, 0.49411765],\n",
            "        ...,\n",
            "        [0.49411765, 0.50196078, 0.49411765, ..., 0.49803922,\n",
            "         0.49803922, 0.50588235],\n",
            "        [0.49019608, 0.48235294, 0.49803922, ..., 0.49803922,\n",
            "         0.49803922, 0.49803922],\n",
            "        [0.49019608, 0.48235294, 0.49803922, ..., 0.49803922,\n",
            "         0.49803922, 0.49803922]],\n",
            "\n",
            "       [[0.49803922, 0.49803922, 0.49411765, ..., 0.49803922,\n",
            "         0.49411765, 0.49803922],\n",
            "        [0.49803922, 0.49803922, 0.49411765, ..., 0.49803922,\n",
            "         0.49411765, 0.49803922],\n",
            "        [0.49411765, 0.49411765, 0.49411765, ..., 0.50588235,\n",
            "         0.49411765, 0.49803922],\n",
            "        ...,\n",
            "        [0.49019608, 0.50196078, 0.50980392, ..., 0.50196078,\n",
            "         0.49803922, 0.49803922],\n",
            "        [0.49019608, 0.50196078, 0.50980392, ..., 0.50196078,\n",
            "         0.49803922, 0.49803922],\n",
            "        [0.49019608, 0.50196078, 0.50980392, ..., 0.50196078,\n",
            "         0.49803922, 0.49803922]],\n",
            "\n",
            "       [[0.49803922, 0.49803922, 0.49411765, ..., 0.49803922,\n",
            "         0.50196078, 0.49803922],\n",
            "        [0.49803922, 0.49803922, 0.49411765, ..., 0.49803922,\n",
            "         0.50196078, 0.49803922],\n",
            "        [0.49803922, 0.49803922, 0.49411765, ..., 0.49803922,\n",
            "         0.50196078, 0.49803922],\n",
            "        ...,\n",
            "        [0.49803922, 0.50588235, 0.49411765, ..., 0.50588235,\n",
            "         0.49803922, 0.50196078],\n",
            "        [0.49803922, 0.50588235, 0.49411765, ..., 0.50588235,\n",
            "         0.49803922, 0.50196078],\n",
            "        [0.49803922, 0.50588235, 0.49411765, ..., 0.50588235,\n",
            "         0.49803922, 0.50196078]],\n",
            "\n",
            "       ...,\n",
            "\n",
            "       [[0.52941176, 0.52156863, 0.49803922, ..., 0.43529412,\n",
            "         0.48235294, 0.51764706],\n",
            "        [0.52941176, 0.52156863, 0.49803922, ..., 0.43529412,\n",
            "         0.48235294, 0.51764706],\n",
            "        [0.52941176, 0.52156863, 0.49803922, ..., 0.43529412,\n",
            "         0.48235294, 0.51764706],\n",
            "        ...,\n",
            "        [0.51372549, 0.49019608, 0.48235294, ..., 0.50588235,\n",
            "         0.53333333, 0.44705882],\n",
            "        [0.51372549, 0.49019608, 0.48235294, ..., 0.50588235,\n",
            "         0.53333333, 0.44705882],\n",
            "        [0.51372549, 0.49019608, 0.48235294, ..., 0.50588235,\n",
            "         0.53333333, 0.44705882]],\n",
            "\n",
            "       [[0.43529412, 0.49019608, 0.49019608, ..., 0.57647059,\n",
            "         0.50196078, 0.49019608],\n",
            "        [0.48627451, 0.51372549, 0.49803922, ..., 0.56470588,\n",
            "         0.54901961, 0.43921569],\n",
            "        [0.48627451, 0.51372549, 0.49803922, ..., 0.56470588,\n",
            "         0.54901961, 0.43921569],\n",
            "        ...,\n",
            "        [0.52156863, 0.50980392, 0.50980392, ..., 0.41176471,\n",
            "         0.47058824, 0.51372549],\n",
            "        [0.52156863, 0.50980392, 0.50980392, ..., 0.41176471,\n",
            "         0.47058824, 0.51372549],\n",
            "        [0.52156863, 0.50980392, 0.50980392, ..., 0.41176471,\n",
            "         0.47058824, 0.51372549]],\n",
            "\n",
            "       [[0.5254902 , 0.49803922, 0.49803922, ..., 0.50980392,\n",
            "         0.51764706, 0.52941176],\n",
            "        [0.5254902 , 0.49803922, 0.49803922, ..., 0.50980392,\n",
            "         0.51764706, 0.52941176],\n",
            "        [0.5254902 , 0.49803922, 0.49803922, ..., 0.50980392,\n",
            "         0.51764706, 0.52941176],\n",
            "        ...,\n",
            "        [0.5372549 , 0.50588235, 0.51372549, ..., 0.47058824,\n",
            "         0.51764706, 0.50196078],\n",
            "        [0.5372549 , 0.50588235, 0.51372549, ..., 0.47058824,\n",
            "         0.51764706, 0.50196078],\n",
            "        [0.5372549 , 0.50588235, 0.51372549, ..., 0.47058824,\n",
            "         0.51764706, 0.50196078]]])\n",
            "ipdb> c\n"
          ]
        }
      ]
    },
    {
      "cell_type": "code",
      "source": [
        "# Print the shape of rms_data\n",
        "print(rms_data.shape)\n"
      ],
      "metadata": {
        "execution": {
          "iopub.status.busy": "2024-01-12T11:41:22.381327Z",
          "iopub.execute_input": "2024-01-12T11:41:22.381775Z",
          "iopub.status.idle": "2024-01-12T11:41:22.387972Z",
          "shell.execute_reply.started": "2024-01-12T11:41:22.381744Z",
          "shell.execute_reply": "2024-01-12T11:41:22.387123Z"
        },
        "trusted": true,
        "id": "bCrYqh-81Uld",
        "colab": {
          "base_uri": "https://localhost:8080/",
          "height": 0
        },
        "outputId": "8a84e745-c0ee-4ea5-93ee-6c24d62327ea"
      },
      "execution_count": 73,
      "outputs": [
        {
          "output_type": "stream",
          "name": "stdout",
          "text": [
            "(49964, 8)\n"
          ]
        }
      ]
    },
    {
      "cell_type": "code",
      "source": [
        "# making data three-dimensional\n",
        "rms_data = np.expand_dims(rms_data, axis=-1)\n",
        "print(rms_data)"
      ],
      "metadata": {
        "execution": {
          "iopub.status.busy": "2024-01-12T11:41:42.24388Z",
          "iopub.execute_input": "2024-01-12T11:41:42.244331Z",
          "iopub.status.idle": "2024-01-12T11:41:42.250406Z",
          "shell.execute_reply.started": "2024-01-12T11:41:42.244296Z",
          "shell.execute_reply": "2024-01-12T11:41:42.249218Z"
        },
        "trusted": true,
        "id": "kxFXaMWw1Uld",
        "colab": {
          "base_uri": "https://localhost:8080/",
          "height": 0
        },
        "outputId": "6b06ed2d-d103-4c93-c2d8-e4f3bb5f1ac9"
      },
      "execution_count": 75,
      "outputs": [
        {
          "output_type": "stream",
          "name": "stdout",
          "text": [
            "[[[[0.4977911 ]]\n",
            "\n",
            "  [[0.49485183]]\n",
            "\n",
            "  [[0.49656774]]\n",
            "\n",
            "  ...\n",
            "\n",
            "  [[0.49878509]]\n",
            "\n",
            "  [[0.49936789]]\n",
            "\n",
            "  [[0.49881747]]]\n",
            "\n",
            "\n",
            " [[[0.49643961]]\n",
            "\n",
            "  [[0.49299156]]\n",
            "\n",
            "  [[0.49582866]]\n",
            "\n",
            "  ...\n",
            "\n",
            "  [[0.49925969]]\n",
            "\n",
            "  [[0.49899327]]\n",
            "\n",
            "  [[0.49844963]]]\n",
            "\n",
            "\n",
            " [[[0.49612973]]\n",
            "\n",
            "  [[0.49586309]]\n",
            "\n",
            "  [[0.4974528 ]]\n",
            "\n",
            "  ...\n",
            "\n",
            "  [[0.49897098]]\n",
            "\n",
            "  [[0.49974644]]\n",
            "\n",
            "  [[0.4984775 ]]]\n",
            "\n",
            "\n",
            " ...\n",
            "\n",
            "\n",
            " [[[0.49993802]]\n",
            "\n",
            "  [[0.50007366]]\n",
            "\n",
            "  [[0.49504633]]\n",
            "\n",
            "  ...\n",
            "\n",
            "  [[0.50304642]]\n",
            "\n",
            "  [[0.50330793]]\n",
            "\n",
            "  [[0.50585469]]]\n",
            "\n",
            "\n",
            " [[[0.50287509]]\n",
            "\n",
            "  [[0.49837136]]\n",
            "\n",
            "  [[0.49400341]]\n",
            "\n",
            "  ...\n",
            "\n",
            "  [[0.4972214 ]]\n",
            "\n",
            "  [[0.50837316]]\n",
            "\n",
            "  [[0.49617778]]]\n",
            "\n",
            "\n",
            " [[[0.52192351]]\n",
            "\n",
            "  [[0.4972447 ]]\n",
            "\n",
            "  [[0.49365753]]\n",
            "\n",
            "  ...\n",
            "\n",
            "  [[0.48658529]]\n",
            "\n",
            "  [[0.5018943 ]]\n",
            "\n",
            "  [[0.49894468]]]]\n"
          ]
        }
      ]
    },
    {
      "cell_type": "code",
      "source": [
        "# Print the shape of rms_data\n",
        "print(rms_data.shape)\n"
      ],
      "metadata": {
        "execution": {
          "iopub.status.busy": "2024-01-12T11:41:50.50076Z",
          "iopub.execute_input": "2024-01-12T11:41:50.501212Z",
          "iopub.status.idle": "2024-01-12T11:41:50.509578Z",
          "shell.execute_reply.started": "2024-01-12T11:41:50.501177Z",
          "shell.execute_reply": "2024-01-12T11:41:50.507942Z"
        },
        "trusted": true,
        "id": "oeJZju0F1Uld",
        "colab": {
          "base_uri": "https://localhost:8080/",
          "height": 0
        },
        "outputId": "92acf752-73ff-4fc3-ebae-41a8c5c323a4"
      },
      "execution_count": 76,
      "outputs": [
        {
          "output_type": "stream",
          "name": "stdout",
          "text": [
            "(49964, 8, 1, 1)\n"
          ]
        }
      ]
    },
    {
      "cell_type": "code",
      "source": [
        "# Check the shape of the original data and the data after RMS processing\n",
        "print(\"Original shape:\", X.shape)\n",
        "print(\"Shape After RMS Processing:\", rms_data.shape)\n"
      ],
      "metadata": {
        "execution": {
          "iopub.status.busy": "2024-01-12T11:42:06.102283Z",
          "iopub.execute_input": "2024-01-12T11:42:06.102739Z",
          "iopub.status.idle": "2024-01-12T11:42:06.109392Z",
          "shell.execute_reply.started": "2024-01-12T11:42:06.102705Z",
          "shell.execute_reply": "2024-01-12T11:42:06.108126Z"
        },
        "trusted": true,
        "id": "mHcjOjQ41Uld",
        "colab": {
          "base_uri": "https://localhost:8080/",
          "height": 0
        },
        "outputId": "6de07ab5-2040-48e9-b56e-ed786a02dbd1"
      },
      "execution_count": 78,
      "outputs": [
        {
          "output_type": "stream",
          "name": "stdout",
          "text": [
            "Original shape: (49964, 150, 8)\n",
            "Shape After RMS Processing: (49964, 8, 1, 1)\n"
          ]
        }
      ]
    },
    {
      "cell_type": "code",
      "source": [
        "# Split the data into training and testing sets after RMS processing\n",
        "pdb.set_trace()  # Set a breakpoint for debugging\n",
        "X_train_rms, X_test_rms, y_train_rms, y_test_rms = train_test_split(rms_data, Y, test_size=0.2, random_state=42)\n"
      ],
      "metadata": {
        "execution": {
          "iopub.status.busy": "2024-01-12T11:42:16.050481Z",
          "iopub.execute_input": "2024-01-12T11:42:16.050895Z",
          "iopub.status.idle": "2024-01-12T11:42:16.065464Z",
          "shell.execute_reply.started": "2024-01-12T11:42:16.050865Z",
          "shell.execute_reply": "2024-01-12T11:42:16.063808Z"
        },
        "trusted": true,
        "id": "OV51s1Oy1Ule",
        "colab": {
          "base_uri": "https://localhost:8080/",
          "height": 0
        },
        "outputId": "59888ab6-7014-48a5-c874-c1f2580254a5"
      },
      "execution_count": 80,
      "outputs": [
        {
          "name": "stdout",
          "output_type": "stream",
          "text": [
            "--Return--\n",
            "None\n",
            "> \u001b[0;32m<ipython-input-80-26b17ea8997a>\u001b[0m(2)\u001b[0;36m<cell line: 2>\u001b[0;34m()\u001b[0m\n",
            "\u001b[0;32m      1 \u001b[0;31m\u001b[0;31m# Split the data into training and testing sets after RMS processing\u001b[0m\u001b[0;34m\u001b[0m\u001b[0;34m\u001b[0m\u001b[0m\n",
            "\u001b[0m\u001b[0;32m----> 2 \u001b[0;31m\u001b[0mpdb\u001b[0m\u001b[0;34m.\u001b[0m\u001b[0mset_trace\u001b[0m\u001b[0;34m(\u001b[0m\u001b[0;34m)\u001b[0m  \u001b[0;31m# Set a breakpoint for debugging\u001b[0m\u001b[0;34m\u001b[0m\u001b[0;34m\u001b[0m\u001b[0m\n",
            "\u001b[0m\u001b[0;32m      3 \u001b[0;31m\u001b[0mX_train_rms\u001b[0m\u001b[0;34m,\u001b[0m \u001b[0mX_test_rms\u001b[0m\u001b[0;34m,\u001b[0m \u001b[0my_train_rms\u001b[0m\u001b[0;34m,\u001b[0m \u001b[0my_test_rms\u001b[0m \u001b[0;34m=\u001b[0m \u001b[0mtrain_test_split\u001b[0m\u001b[0;34m(\u001b[0m\u001b[0mrms_data\u001b[0m\u001b[0;34m,\u001b[0m \u001b[0mY\u001b[0m\u001b[0;34m,\u001b[0m \u001b[0mtest_size\u001b[0m\u001b[0;34m=\u001b[0m\u001b[0;36m0.2\u001b[0m\u001b[0;34m,\u001b[0m \u001b[0mrandom_state\u001b[0m\u001b[0;34m=\u001b[0m\u001b[0;36m42\u001b[0m\u001b[0;34m)\u001b[0m\u001b[0;34m\u001b[0m\u001b[0;34m\u001b[0m\u001b[0m\n",
            "\u001b[0m\n",
            "ipdb> rms_data,Y\n",
            "(array([[[[0.4977911 ]],\n",
            "\n",
            "        [[0.49485183]],\n",
            "\n",
            "        [[0.49656774]],\n",
            "\n",
            "        ...,\n",
            "\n",
            "        [[0.49878509]],\n",
            "\n",
            "        [[0.49936789]],\n",
            "\n",
            "        [[0.49881747]]],\n",
            "\n",
            "\n",
            "       [[[0.49643961]],\n",
            "\n",
            "        [[0.49299156]],\n",
            "\n",
            "        [[0.49582866]],\n",
            "\n",
            "        ...,\n",
            "\n",
            "        [[0.49925969]],\n",
            "\n",
            "        [[0.49899327]],\n",
            "\n",
            "        [[0.49844963]]],\n",
            "\n",
            "\n",
            "       [[[0.49612973]],\n",
            "\n",
            "        [[0.49586309]],\n",
            "\n",
            "        [[0.4974528 ]],\n",
            "\n",
            "        ...,\n",
            "\n",
            "        [[0.49897098]],\n",
            "\n",
            "        [[0.49974644]],\n",
            "\n",
            "        [[0.4984775 ]]],\n",
            "\n",
            "\n",
            "       ...,\n",
            "\n",
            "\n",
            "       [[[0.49993802]],\n",
            "\n",
            "        [[0.50007366]],\n",
            "\n",
            "        [[0.49504633]],\n",
            "\n",
            "        ...,\n",
            "\n",
            "        [[0.50304642]],\n",
            "\n",
            "        [[0.50330793]],\n",
            "\n",
            "        [[0.50585469]]],\n",
            "\n",
            "\n",
            "       [[[0.50287509]],\n",
            "\n",
            "        [[0.49837136]],\n",
            "\n",
            "        [[0.49400341]],\n",
            "\n",
            "        ...,\n",
            "\n",
            "        [[0.4972214 ]],\n",
            "\n",
            "        [[0.50837316]],\n",
            "\n",
            "        [[0.49617778]]],\n",
            "\n",
            "\n",
            "       [[[0.52192351]],\n",
            "\n",
            "        [[0.4972447 ]],\n",
            "\n",
            "        [[0.49365753]],\n",
            "\n",
            "        ...,\n",
            "\n",
            "        [[0.48658529]],\n",
            "\n",
            "        [[0.5018943 ]],\n",
            "\n",
            "        [[0.49894468]]]]), array([0, 0, 0, ..., 5, 5, 5]))\n",
            "ipdb> c\n"
          ]
        }
      ]
    },
    {
      "cell_type": "code",
      "source": [
        "from tensorflow.keras.models import Sequential  # Import Sequential model from TensorFlow Keras\n",
        "from tensorflow.keras.layers import Conv1D, MaxPooling1D, Flatten, Dense  # Import necessary layers from TensorFlow Keras\n",
        "pdb.set_trace()  # Set a breakpoint for debugging\n",
        "\n",
        "def CNN_model_rms(input_shape, num_classes):\n",
        "    model = Sequential()  # Create a Sequential model\n",
        "\n",
        "    # Convolutional Layers\n",
        "    model.add(Conv1D(32, kernel_size=3, activation='relu', input_shape=input_shape))  # Add a 1D convolutional layer with 32 filters and ReLU activation\n",
        "    model.add(MaxPooling1D(pool_size=2))  # Add a max pooling layer\n",
        "\n",
        "    model.add(Conv1D(64, kernel_size=3, activation='relu'))  # Add another 1D convolutional layer with 64 filters and ReLU activation\n",
        "    model.add(MaxPooling1D(pool_size=1))  # Add another max pooling layer\n",
        "\n",
        "    # Flattening Layer\n",
        "    model.add(Flatten())  # Flatten the output of the convolutional layers\n",
        "\n",
        "    # Fully Connected Layers\n",
        "    model.add(Dense(128, activation='relu'))  # Add a fully connected layer with 128 neurons and ReLU activation\n",
        "    model.add(Dense(num_classes, activation='softmax'))  # Add the output layer with softmax activation\n",
        "\n",
        "    # Compile the model\n",
        "    model.compile(optimizer='adam', loss='sparse_categorical_crossentropy', metrics=['accuracy'])  # Compile the model with Adam optimizer, sparse categorical crossentropy loss, and accuracy metric\n",
        "\n",
        "    # Print model summary\n",
        "    model.summary()  # Print model summary\n",
        "\n",
        "    return model  # Return the compiled model\n"
      ],
      "metadata": {
        "execution": {
          "iopub.status.busy": "2024-01-12T11:42:33.396209Z",
          "iopub.execute_input": "2024-01-12T11:42:33.39668Z",
          "iopub.status.idle": "2024-01-12T11:42:33.407788Z",
          "shell.execute_reply.started": "2024-01-12T11:42:33.396646Z",
          "shell.execute_reply": "2024-01-12T11:42:33.405957Z"
        },
        "trusted": true,
        "id": "qIG0wC5b1Ule",
        "colab": {
          "base_uri": "https://localhost:8080/",
          "height": 0
        },
        "outputId": "5502872a-f408-4d68-ca94-14289f71f15e"
      },
      "execution_count": 82,
      "outputs": [
        {
          "name": "stdout",
          "output_type": "stream",
          "text": [
            "--Return--\n",
            "None\n",
            "> \u001b[0;32m<ipython-input-82-2efcec9e9376>\u001b[0m(3)\u001b[0;36m<cell line: 3>\u001b[0;34m()\u001b[0m\n",
            "\u001b[0;32m      1 \u001b[0;31m\u001b[0;32mfrom\u001b[0m \u001b[0mtensorflow\u001b[0m\u001b[0;34m.\u001b[0m\u001b[0mkeras\u001b[0m\u001b[0;34m.\u001b[0m\u001b[0mmodels\u001b[0m \u001b[0;32mimport\u001b[0m \u001b[0mSequential\u001b[0m  \u001b[0;31m# Import Sequential model from TensorFlow Keras\u001b[0m\u001b[0;34m\u001b[0m\u001b[0;34m\u001b[0m\u001b[0m\n",
            "\u001b[0m\u001b[0;32m      2 \u001b[0;31m\u001b[0;32mfrom\u001b[0m \u001b[0mtensorflow\u001b[0m\u001b[0;34m.\u001b[0m\u001b[0mkeras\u001b[0m\u001b[0;34m.\u001b[0m\u001b[0mlayers\u001b[0m \u001b[0;32mimport\u001b[0m \u001b[0mConv1D\u001b[0m\u001b[0;34m,\u001b[0m \u001b[0mMaxPooling1D\u001b[0m\u001b[0;34m,\u001b[0m \u001b[0mFlatten\u001b[0m\u001b[0;34m,\u001b[0m \u001b[0mDense\u001b[0m  \u001b[0;31m# Import necessary layers from TensorFlow Keras\u001b[0m\u001b[0;34m\u001b[0m\u001b[0;34m\u001b[0m\u001b[0m\n",
            "\u001b[0m\u001b[0;32m----> 3 \u001b[0;31m\u001b[0mpdb\u001b[0m\u001b[0;34m.\u001b[0m\u001b[0mset_trace\u001b[0m\u001b[0;34m(\u001b[0m\u001b[0;34m)\u001b[0m  \u001b[0;31m# Set a breakpoint for debugging\u001b[0m\u001b[0;34m\u001b[0m\u001b[0;34m\u001b[0m\u001b[0m\n",
            "\u001b[0m\u001b[0;32m      4 \u001b[0;31m\u001b[0;34m\u001b[0m\u001b[0m\n",
            "\u001b[0m\u001b[0;32m      5 \u001b[0;31m\u001b[0;32mdef\u001b[0m \u001b[0mCNN_model_rms\u001b[0m\u001b[0;34m(\u001b[0m\u001b[0minput_shape\u001b[0m\u001b[0;34m,\u001b[0m \u001b[0mnum_classes\u001b[0m\u001b[0;34m)\u001b[0m\u001b[0;34m:\u001b[0m\u001b[0;34m\u001b[0m\u001b[0;34m\u001b[0m\u001b[0m\n",
            "\u001b[0m\n",
            "ipdb> model.summary\n",
            "<bound method Model.summary of <keras.src.engine.sequential.Sequential object at 0x7dfd95d87d90>>\n",
            "ipdb> c\n"
          ]
        }
      ]
    },
    {
      "cell_type": "code",
      "source": [
        "# Print the shape of X_train_rms\n",
        "print(X_train_rms.shape)\n"
      ],
      "metadata": {
        "execution": {
          "iopub.status.busy": "2024-01-12T11:42:22.444567Z",
          "iopub.execute_input": "2024-01-12T11:42:22.445036Z",
          "iopub.status.idle": "2024-01-12T11:42:22.453725Z",
          "shell.execute_reply.started": "2024-01-12T11:42:22.445003Z",
          "shell.execute_reply": "2024-01-12T11:42:22.452309Z"
        },
        "trusted": true,
        "id": "_98De7I21Ule",
        "colab": {
          "base_uri": "https://localhost:8080/",
          "height": 0
        },
        "outputId": "1eb5ef30-7569-44e6-f31f-88fbd6812553"
      },
      "execution_count": 84,
      "outputs": [
        {
          "output_type": "stream",
          "name": "stdout",
          "text": [
            "(39971, 8, 1, 1)\n"
          ]
        }
      ]
    },
    {
      "cell_type": "code",
      "source": [
        "# Define CNN model\n",
        "input_shape_rms = X_train_rms.shape[1:]  # Determine input shape based on the processed data with RMS\n",
        "num_classes_rms = len(np.unique(Y))   # Determine the number of classes based on unique values in the target vector\n",
        "\n",
        "# Adjust input shape to match the expected format for Conv1D layer\n",
        "input_shape_rms = (input_shape_rms[0], 1)  # Convert input shape to (input_shape[0], 1)\n",
        "\n",
        "# Create CNN model using the adjusted input shape and number of classes\n",
        "model_rms = CNN_model_rms(input_shape_rms, num_classes_rms)\n"
      ],
      "metadata": {
        "execution": {
          "iopub.status.busy": "2024-01-12T11:42:38.247243Z",
          "iopub.execute_input": "2024-01-12T11:42:38.247697Z",
          "iopub.status.idle": "2024-01-12T11:42:38.389175Z",
          "shell.execute_reply.started": "2024-01-12T11:42:38.247662Z",
          "shell.execute_reply": "2024-01-12T11:42:38.387707Z"
        },
        "trusted": true,
        "id": "wcanH__B1Ulf",
        "colab": {
          "base_uri": "https://localhost:8080/",
          "height": 0
        },
        "outputId": "2dab0d0e-886a-4d62-ba0f-752a03a91821"
      },
      "execution_count": 89,
      "outputs": [
        {
          "output_type": "stream",
          "name": "stdout",
          "text": [
            "Model: \"sequential_6\"\n",
            "_________________________________________________________________\n",
            " Layer (type)                Output Shape              Param #   \n",
            "=================================================================\n",
            " conv1d_8 (Conv1D)           (None, 6, 32)             128       \n",
            "                                                                 \n",
            " max_pooling1d_4 (MaxPoolin  (None, 3, 32)             0         \n",
            " g1D)                                                            \n",
            "                                                                 \n",
            " conv1d_9 (Conv1D)           (None, 1, 64)             6208      \n",
            "                                                                 \n",
            " max_pooling1d_5 (MaxPoolin  (None, 1, 64)             0         \n",
            " g1D)                                                            \n",
            "                                                                 \n",
            " flatten_2 (Flatten)         (None, 64)                0         \n",
            "                                                                 \n",
            " dense_4 (Dense)             (None, 128)               8320      \n",
            "                                                                 \n",
            " dense_5 (Dense)             (None, 6)                 774       \n",
            "                                                                 \n",
            "=================================================================\n",
            "Total params: 15430 (60.27 KB)\n",
            "Trainable params: 15430 (60.27 KB)\n",
            "Non-trainable params: 0 (0.00 Byte)\n",
            "_________________________________________________________________\n"
          ]
        }
      ]
    },
    {
      "cell_type": "code",
      "source": [
        "# Train the CNN model on the data processed with RMS for 10 epochs, using the RMS processed validation data for evaluation\n",
        "history_rms = model_rms.fit(X_train_rms, y_train_rms, epochs=10, validation_data=(X_test_rms, y_test_rms))\n"
      ],
      "metadata": {
        "execution": {
          "iopub.status.busy": "2024-01-12T11:42:42.002551Z",
          "iopub.execute_input": "2024-01-12T11:42:42.00304Z",
          "iopub.status.idle": "2024-01-12T11:43:19.103716Z",
          "shell.execute_reply.started": "2024-01-12T11:42:42.002999Z",
          "shell.execute_reply": "2024-01-12T11:43:19.102671Z"
        },
        "trusted": true,
        "id": "Y-VoqCet1Ulf",
        "colab": {
          "base_uri": "https://localhost:8080/",
          "height": 0
        },
        "outputId": "c5931783-65cb-46c5-dc3b-de09f69de316"
      },
      "execution_count": 90,
      "outputs": [
        {
          "output_type": "stream",
          "name": "stdout",
          "text": [
            "Epoch 1/10\n",
            "1250/1250 [==============================] - 9s 5ms/step - loss: 1.6637 - accuracy: 0.2930 - val_loss: 1.4730 - val_accuracy: 0.4017\n",
            "Epoch 2/10\n",
            "1250/1250 [==============================] - 3s 3ms/step - loss: 1.3613 - accuracy: 0.4640 - val_loss: 1.2959 - val_accuracy: 0.5178\n",
            "Epoch 3/10\n",
            "1250/1250 [==============================] - 3s 2ms/step - loss: 1.2558 - accuracy: 0.5154 - val_loss: 1.2972 - val_accuracy: 0.5192\n",
            "Epoch 4/10\n",
            "1250/1250 [==============================] - 4s 3ms/step - loss: 1.2050 - accuracy: 0.5379 - val_loss: 1.2369 - val_accuracy: 0.5191\n",
            "Epoch 5/10\n",
            "1250/1250 [==============================] - 3s 2ms/step - loss: 1.1753 - accuracy: 0.5498 - val_loss: 1.1510 - val_accuracy: 0.5612\n",
            "Epoch 6/10\n",
            "1250/1250 [==============================] - 3s 3ms/step - loss: 1.1587 - accuracy: 0.5570 - val_loss: 1.1424 - val_accuracy: 0.5600\n",
            "Epoch 7/10\n",
            "1250/1250 [==============================] - 3s 2ms/step - loss: 1.1375 - accuracy: 0.5637 - val_loss: 1.1627 - val_accuracy: 0.5676\n",
            "Epoch 8/10\n",
            "1250/1250 [==============================] - 4s 3ms/step - loss: 1.1332 - accuracy: 0.5655 - val_loss: 1.1712 - val_accuracy: 0.5544\n",
            "Epoch 9/10\n",
            "1250/1250 [==============================] - 3s 2ms/step - loss: 1.1186 - accuracy: 0.5719 - val_loss: 1.0816 - val_accuracy: 0.5888\n",
            "Epoch 10/10\n",
            "1250/1250 [==============================] - 3s 2ms/step - loss: 1.1061 - accuracy: 0.5795 - val_loss: 1.0761 - val_accuracy: 0.5963\n"
          ]
        }
      ]
    },
    {
      "cell_type": "code",
      "source": [
        "from sklearn.metrics import accuracy_score, f1_score  # Import necessary metrics\n",
        "\n",
        "# Predict on training data\n",
        "y_pred_train_rms = model_rms.predict(X_train_rms)  # Make predictions on training data\n",
        "y_pred_train_rms = np.argmax(y_pred_train_rms, axis=1)  # Convert predictions from one-hot encoding to class labels\n",
        "\n",
        "# Predict on test data\n",
        "y_pred_test_rms = model_rms.predict(X_test_rms)  # Make predictions on test data\n",
        "y_pred_test_rms = np.argmax(y_pred_test_rms, axis=1)  # Convert predictions from one-hot encoding to class labels\n",
        "\n",
        "# Calculate accuracy\n",
        "accuracy_training_rms = accuracy_score(y_train_rms, y_pred_train_rms)  # Calculate accuracy on training data\n",
        "accuracy_test_rms = accuracy_score(y_test_rms, y_pred_test_rms)  # Calculate accuracy on test data\n",
        "\n",
        "# Calculate F1 score\n",
        "f1_training_rms = f1_score(y_train_rms, y_pred_train_rms, average='weighted')  # Calculate F1 score on training data\n",
        "f1_test_rms = f1_score(y_test_rms, y_pred_test_rms, average='weighted')  # Calculate F1 score on test data\n",
        "\n",
        "# Print accuracy and F1 score\n",
        "print(\"Training Accuracy RMS:\", accuracy_training_rms)  # Print training accuracy\n",
        "print(\"Test Accuracy RMS:\", accuracy_test_rms)  # Print test accuracy\n",
        "print(\"Training F1 Score RMS:\", f1_training_rms)  # Print training F1 score\n",
        "print(\"Test F1 Score RMS:\", f1_test_rms)  # Print test F1 score\n"
      ],
      "metadata": {
        "execution": {
          "iopub.status.busy": "2024-01-12T11:43:24.456073Z",
          "iopub.execute_input": "2024-01-12T11:43:24.457497Z",
          "iopub.status.idle": "2024-01-12T11:43:27.380018Z",
          "shell.execute_reply.started": "2024-01-12T11:43:24.457451Z",
          "shell.execute_reply": "2024-01-12T11:43:27.378235Z"
        },
        "trusted": true,
        "id": "OtgtWDgC1Ulg",
        "colab": {
          "base_uri": "https://localhost:8080/",
          "height": 0
        },
        "outputId": "c8fd5a3e-3420-4a7b-d2b5-4290b40898c2"
      },
      "execution_count": 91,
      "outputs": [
        {
          "output_type": "stream",
          "name": "stdout",
          "text": [
            "1250/1250 [==============================] - 3s 3ms/step\n",
            "313/313 [==============================] - 0s 1ms/step\n",
            "Training Accuracy RMS: 0.5953816516974807\n",
            "Test Accuracy RMS: 0.5963174221955369\n",
            "Training F1 Score RMS: 0.5946537842956922\n",
            "Test F1 Score RMS: 0.5951899386193479\n"
          ]
        }
      ]
    },
    {
      "cell_type": "code",
      "source": [
        "from sklearn.metrics import classification_report  # Import classification_report function\n",
        "pdb.set_trace()  # Set a breakpoint for debugging\n",
        "# Generate classification report including accuracy and F1 score for each class\n",
        "report_rms = classification_report(y_test, y_pred_test_rms, target_names=[str(label) for label in np.unique(y_test)])\n",
        "\n",
        "# Print the classification report\n",
        "print(report_rms)\n"
      ],
      "metadata": {
        "execution": {
          "iopub.status.busy": "2024-01-12T11:43:30.400829Z",
          "iopub.execute_input": "2024-01-12T11:43:30.401274Z",
          "iopub.status.idle": "2024-01-12T11:43:30.439313Z",
          "shell.execute_reply.started": "2024-01-12T11:43:30.401227Z",
          "shell.execute_reply": "2024-01-12T11:43:30.438363Z"
        },
        "trusted": true,
        "id": "XO5OY5z61Ulg",
        "colab": {
          "base_uri": "https://localhost:8080/",
          "height": 0
        },
        "outputId": "ad599b8e-35af-4a0d-94e4-90cd86f91179"
      },
      "execution_count": 93,
      "outputs": [
        {
          "output_type": "stream",
          "name": "stdout",
          "text": [
            "--Return--\n",
            "None\n",
            "> \u001b[0;32m<ipython-input-93-62ec410f7150>\u001b[0m(2)\u001b[0;36m<cell line: 2>\u001b[0;34m()\u001b[0m\n",
            "\u001b[0;32m      1 \u001b[0;31m\u001b[0;32mfrom\u001b[0m \u001b[0msklearn\u001b[0m\u001b[0;34m.\u001b[0m\u001b[0mmetrics\u001b[0m \u001b[0;32mimport\u001b[0m \u001b[0mclassification_report\u001b[0m  \u001b[0;31m# Import classification_report function\u001b[0m\u001b[0;34m\u001b[0m\u001b[0;34m\u001b[0m\u001b[0m\n",
            "\u001b[0m\u001b[0;32m----> 2 \u001b[0;31m\u001b[0mpdb\u001b[0m\u001b[0;34m.\u001b[0m\u001b[0mset_trace\u001b[0m\u001b[0;34m(\u001b[0m\u001b[0;34m)\u001b[0m  \u001b[0;31m# Set a breakpoint for debugging\u001b[0m\u001b[0;34m\u001b[0m\u001b[0;34m\u001b[0m\u001b[0m\n",
            "\u001b[0m\u001b[0;32m      3 \u001b[0;31m\u001b[0;31m# Generate classification report including accuracy and F1 score for each class\u001b[0m\u001b[0;34m\u001b[0m\u001b[0;34m\u001b[0m\u001b[0m\n",
            "\u001b[0m\u001b[0;32m      4 \u001b[0;31m\u001b[0mreport_rms\u001b[0m \u001b[0;34m=\u001b[0m \u001b[0mclassification_report\u001b[0m\u001b[0;34m(\u001b[0m\u001b[0my_test\u001b[0m\u001b[0;34m,\u001b[0m \u001b[0my_pred_test_rms\u001b[0m\u001b[0;34m,\u001b[0m \u001b[0mtarget_names\u001b[0m\u001b[0;34m=\u001b[0m\u001b[0;34m[\u001b[0m\u001b[0mstr\u001b[0m\u001b[0;34m(\u001b[0m\u001b[0mlabel\u001b[0m\u001b[0;34m)\u001b[0m \u001b[0;32mfor\u001b[0m \u001b[0mlabel\u001b[0m \u001b[0;32min\u001b[0m \u001b[0mnp\u001b[0m\u001b[0;34m.\u001b[0m\u001b[0munique\u001b[0m\u001b[0;34m(\u001b[0m\u001b[0my_test\u001b[0m\u001b[0;34m)\u001b[0m\u001b[0;34m]\u001b[0m\u001b[0;34m)\u001b[0m\u001b[0;34m\u001b[0m\u001b[0;34m\u001b[0m\u001b[0m\n",
            "\u001b[0m\u001b[0;32m      5 \u001b[0;31m\u001b[0;34m\u001b[0m\u001b[0m\n",
            "\u001b[0m\n",
            "ipdb> y_test, y_pred_test_rms\n",
            "(array([1, 2, 0, ..., 1, 2, 2]), array([2, 2, 0, ..., 3, 2, 2]))\n",
            "ipdb> c\n",
            "              precision    recall  f1-score   support\n",
            "\n",
            "           0       0.80      0.83      0.82      1629\n",
            "           1       0.58      0.53      0.56      1698\n",
            "           2       0.57      0.56      0.57      1623\n",
            "           3       0.57      0.62      0.59      1706\n",
            "           4       0.52      0.50      0.51      1691\n",
            "           5       0.52      0.54      0.53      1646\n",
            "\n",
            "    accuracy                           0.60      9993\n",
            "   macro avg       0.60      0.60      0.60      9993\n",
            "weighted avg       0.59      0.60      0.60      9993\n",
            "\n"
          ]
        }
      ]
    },
    {
      "cell_type": "code",
      "source": [
        "from sklearn.metrics import confusion_matrix  # Import confusion_matrix function\n",
        "import seaborn as sns  # Import seaborn library for visualization\n",
        "pdb.set_trace()  # Set a breakpoint for debugging\n",
        "# Generate confusion matrix\n",
        "cm_rms = confusion_matrix(y_test, y_pred_test_rms)\n",
        "\n",
        "# Plot confusion matrix\n",
        "plt.figure(figsize=(6, 6))  # Set the figure size\n",
        "sns.heatmap(cm_rms, annot=True, fmt=\"d\", cmap=\"Blues\", xticklabels=np.unique(y_test), yticklabels=np.unique(y_test))\n",
        "# Create heatmap of confusion matrix with annotations and blue color map, with x and y labels representing unique class labels\n",
        "plt.title('Confusion Matrix RMS')  # Set the title of the plot\n",
        "plt.xlabel('Predicted Labels RMS')  # Set the label for the x-axis\n",
        "plt.ylabel('Real Labels RMS')  # Set the label for the y-axis\n",
        "plt.show()  # Display the plot\n"
      ],
      "metadata": {
        "execution": {
          "iopub.status.busy": "2024-01-12T11:43:33.047009Z",
          "iopub.execute_input": "2024-01-12T11:43:33.048229Z",
          "iopub.status.idle": "2024-01-12T11:43:33.558907Z",
          "shell.execute_reply.started": "2024-01-12T11:43:33.048175Z",
          "shell.execute_reply": "2024-01-12T11:43:33.557757Z"
        },
        "trusted": true,
        "id": "pgdNGGt71Ulh",
        "colab": {
          "base_uri": "https://localhost:8080/",
          "height": 807
        },
        "outputId": "280782c2-2eb3-446d-96c2-d6971480f111"
      },
      "execution_count": 94,
      "outputs": [
        {
          "name": "stdout",
          "output_type": "stream",
          "text": [
            "--Return--\n",
            "None\n",
            "> \u001b[0;32m<ipython-input-94-aecded60412f>\u001b[0m(3)\u001b[0;36m<cell line: 3>\u001b[0;34m()\u001b[0m\n",
            "\u001b[0;32m      1 \u001b[0;31m\u001b[0;32mfrom\u001b[0m \u001b[0msklearn\u001b[0m\u001b[0;34m.\u001b[0m\u001b[0mmetrics\u001b[0m \u001b[0;32mimport\u001b[0m \u001b[0mconfusion_matrix\u001b[0m  \u001b[0;31m# Import confusion_matrix function\u001b[0m\u001b[0;34m\u001b[0m\u001b[0;34m\u001b[0m\u001b[0m\n",
            "\u001b[0m\u001b[0;32m      2 \u001b[0;31m\u001b[0;32mimport\u001b[0m \u001b[0mseaborn\u001b[0m \u001b[0;32mas\u001b[0m \u001b[0msns\u001b[0m  \u001b[0;31m# Import seaborn library for visualization\u001b[0m\u001b[0;34m\u001b[0m\u001b[0;34m\u001b[0m\u001b[0m\n",
            "\u001b[0m\u001b[0;32m----> 3 \u001b[0;31m\u001b[0mpdb\u001b[0m\u001b[0;34m.\u001b[0m\u001b[0mset_trace\u001b[0m\u001b[0;34m(\u001b[0m\u001b[0;34m)\u001b[0m  \u001b[0;31m# Set a breakpoint for debugging\u001b[0m\u001b[0;34m\u001b[0m\u001b[0;34m\u001b[0m\u001b[0m\n",
            "\u001b[0m\u001b[0;32m      4 \u001b[0;31m\u001b[0;31m# Generate confusion matrix\u001b[0m\u001b[0;34m\u001b[0m\u001b[0;34m\u001b[0m\u001b[0m\n",
            "\u001b[0m\u001b[0;32m      5 \u001b[0;31m\u001b[0mcm_rms\u001b[0m \u001b[0;34m=\u001b[0m \u001b[0mconfusion_matrix\u001b[0m\u001b[0;34m(\u001b[0m\u001b[0my_test\u001b[0m\u001b[0;34m,\u001b[0m \u001b[0my_pred_test_rms\u001b[0m\u001b[0;34m)\u001b[0m\u001b[0;34m\u001b[0m\u001b[0;34m\u001b[0m\u001b[0m\n",
            "\u001b[0m\n",
            "ipdb> y_test, y_pred_test_rms\n",
            "(array([1, 2, 0, ..., 1, 2, 2]), array([2, 2, 0, ..., 3, 2, 2]))\n",
            "ipdb> cm_rms\n",
            "*** NameError: name 'cm_rms' is not defined\n",
            "ipdb> c\n"
          ]
        },
        {
          "output_type": "display_data",
          "data": {
            "text/plain": [
              "<Figure size 600x600 with 2 Axes>"
            ],
            "image/png": "[encoded data removed]"
          },
          "metadata": {}
        }
      ]
    }
  ],
  "metadata": {
    "colab": {
      "provenance": [],
      "authorship_tag": "ABX9TyNQzMmZpujp9W9OAIgV8TDy",
      "include_colab_link": true
    },
    "kernelspec": {
      "display_name": "Python 3",
      "name": "python3"
    },
    "language_info": {
      "name": "python"
    }
  },
  "nbformat": 4,
  "nbformat_minor": 0
}